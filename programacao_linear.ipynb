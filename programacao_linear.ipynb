{
  "nbformat": 4,
  "nbformat_minor": 0,
  "metadata": {
    "colab": {
      "name": "tarefa-PL.ipynb",
      "provenance": [],
      "collapsed_sections": []
    },
    "kernelspec": {
      "name": "python3",
      "display_name": "Python 3"
    },
    "language_info": {
      "name": "python"
    }
  },
  "cells": [
    {
      "cell_type": "markdown",
      "metadata": {
        "id": "uUt0if-N6xPz"
      },
      "source": [
        "\n",
        "\n",
        "> Anaísa Forti da Fonseca - 11811ECP012\n",
        "\n"
      ]
    },
    {
      "cell_type": "code",
      "metadata": {
        "colab": {
          "base_uri": "https://localhost:8080/"
        },
        "id": "zyeKbYkC0AZP",
        "outputId": "5acaaca8-59ed-419b-a4bf-473f3fa85f43"
      },
      "source": [
        "!pip install pulp --quiet\n",
        "!apt install glpk-utils --quiet\n",
        "!apt install coinor-cbc --quiet\n",
        "!wget -O diet_medium.xls https://github.com/tirthajyoti/Optimization-Python/raw/master/Data/diet%20-%20medium.xls --quiet"
      ],
      "execution_count": 13,
      "outputs": [
        {
          "output_type": "stream",
          "name": "stdout",
          "text": [
            "Reading package lists...\n",
            "Building dependency tree...\n",
            "Reading state information...\n",
            "glpk-utils is already the newest version (4.65-1).\n",
            "0 upgraded, 0 newly installed, 0 to remove and 37 not upgraded.\n",
            "Reading package lists...\n",
            "Building dependency tree...\n",
            "Reading state information...\n",
            "coinor-cbc is already the newest version (2.9.9+repack1-1).\n",
            "0 upgraded, 0 newly installed, 0 to remove and 37 not upgraded.\n"
          ]
        }
      ]
    },
    {
      "cell_type": "code",
      "metadata": {
        "id": "OAVr0RXZrYXa"
      },
      "source": [
        "import pulp as lp\n",
        "import pandas as pd"
      ],
      "execution_count": 14,
      "outputs": []
    },
    {
      "cell_type": "markdown",
      "metadata": {
        "id": "ZFOTTqRT-B2F"
      },
      "source": [
        "## Restrições"
      ]
    },
    {
      "cell_type": "markdown",
      "metadata": {
        "id": "yUpn-25J7Y1n"
      },
      "source": [
        "função objetivo:  min $z=\\sum\\limits_{i=1}^{7}x_i$\n",
        "\n",
        "$x_i$: número de funcionários cujos cinco dias consecutivos de trabalho começam no dia $i$, para $i=1,2,...,7$.\n",
        "\n",
        "$x_i\\geq0$\n"
      ]
    },
    {
      "cell_type": "markdown",
      "metadata": {
        "id": "sF5felNs9_ik"
      },
      "source": [
        "### Por dia da semana:\n",
        "segunda: $x_1+x_4+x_5+x_6+x_7\\geq17$ \n",
        "\n",
        "terça:   $x_2+x_5+x_6+x_7+x_1\\geq13$\n",
        "\n",
        "quarta:  $x_3+x_6+x_7+x_1+x_2\\geq15$\n",
        "\n",
        "quinta:  $x_4+x_7+x_1+x_2+x_3\\geq19$\n",
        "\n",
        "sexta:   $x_5+x_1+x_2+x_3+x_4\\geq14$\n",
        "\n",
        "sábado:  $x_6+x_2+x_3+x_4+x_5\\geq16$\n",
        "\n",
        "domingo: $x_7+x_3+x_4+x_5+x_6\\geq11$"
      ]
    },
    {
      "cell_type": "code",
      "metadata": {
        "id": "6a6PH19im-FP",
        "colab": {
          "base_uri": "https://localhost:8080/"
        },
        "outputId": "cb31366c-fada-40e4-cbe6-95baebb3dc56"
      },
      "source": [
        "# problema\n",
        "prob = lp.LpProblem(\"Correios\", lp.LpMinimize)\n",
        "\n",
        "# variáveis\n",
        "x1 = lp.LpVariable(\"x1\", lowBound=0, cat=\"Integer\")   # x1>=0\n",
        "x2 = lp.LpVariable(\"x2\", lowBound=0, cat=\"Integer\")   # x2>=0\n",
        "x3 = lp.LpVariable(\"x3\", lowBound=0, cat=\"Integer\")   # x3>=0\n",
        "x4 = lp.LpVariable(\"x4\", lowBound=0, cat=\"Integer\")   # x4>=0\n",
        "x5 = lp.LpVariable(\"x5\", lowBound=0, cat=\"Integer\")   # x5>=0\n",
        "x6 = lp.LpVariable(\"x6\", lowBound=0, cat=\"Integer\")   # x6>=0\n",
        "x7 = lp.LpVariable(\"x7\", lowBound=0, cat=\"Integer\")   # x7>=0\n",
        "\n",
        "#função objetivo\n",
        "prob += x1 + x2 + x3 + x4 + x5 + x6 + x7\n",
        "\n",
        "# restrições\n",
        "prob += x1 + x4 + x5 + x6 + x7 >=17\n",
        "prob += x2 + x5 + x6 + x7 + x1 >=13\n",
        "prob += x3 + x6 + x7 + x1 + x2 >=15\n",
        "prob += x4 + x7 + x1 + x2 + x3 >=19\n",
        "prob += x5 + x1 + x2 + x3 + x4 >=14\n",
        "prob += x6 + x2 + x3 + x4 + x5 >=16\n",
        "prob += x7 + x3 + x4 + x5 + x6 >=11\n",
        "\n",
        "# mostrando o PL\n",
        "prob"
      ],
      "execution_count": 15,
      "outputs": [
        {
          "output_type": "execute_result",
          "data": {
            "text/plain": [
              "Correios:\n",
              "MINIMIZE\n",
              "1*x1 + 1*x2 + 1*x3 + 1*x4 + 1*x5 + 1*x6 + 1*x7 + 0\n",
              "SUBJECT TO\n",
              "_C1: x1 + x4 + x5 + x6 + x7 >= 17\n",
              "\n",
              "_C2: x1 + x2 + x5 + x6 + x7 >= 13\n",
              "\n",
              "_C3: x1 + x2 + x3 + x6 + x7 >= 15\n",
              "\n",
              "_C4: x1 + x2 + x3 + x4 + x7 >= 19\n",
              "\n",
              "_C5: x1 + x2 + x3 + x4 + x5 >= 14\n",
              "\n",
              "_C6: x2 + x3 + x4 + x5 + x6 >= 16\n",
              "\n",
              "_C7: x3 + x4 + x5 + x6 + x7 >= 11\n",
              "\n",
              "VARIABLES\n",
              "0 <= x1 Integer\n",
              "0 <= x2 Integer\n",
              "0 <= x3 Integer\n",
              "0 <= x4 Integer\n",
              "0 <= x5 Integer\n",
              "0 <= x6 Integer\n",
              "0 <= x7 Integer"
            ]
          },
          "metadata": {},
          "execution_count": 15
        }
      ]
    },
    {
      "cell_type": "code",
      "metadata": {
        "colab": {
          "base_uri": "https://localhost:8080/",
          "height": 35
        },
        "id": "a0C25tJlYwKt",
        "outputId": "f7be9ab8-ce92-434c-e92e-2c8105186034"
      },
      "source": [
        "status = prob.solve()\n",
        "lp.LpStatus[status]"
      ],
      "execution_count": 16,
      "outputs": [
        {
          "output_type": "execute_result",
          "data": {
            "application/vnd.google.colaboratory.intrinsic+json": {
              "type": "string"
            },
            "text/plain": [
              "'Optimal'"
            ]
          },
          "metadata": {},
          "execution_count": 16
        }
      ]
    },
    {
      "cell_type": "code",
      "metadata": {
        "colab": {
          "base_uri": "https://localhost:8080/"
        },
        "id": "OYj9s7yCY_Lc",
        "outputId": "f66b6261-adb1-4ffa-ba4b-d599cb9e5fdc"
      },
      "source": [
        "# resultados\n",
        "z = lp.value(prob.objective)\n",
        "x1 = lp.value(x1)\n",
        "x2 = lp.value(x2)\n",
        "x3 = lp.value(x3)\n",
        "x4 = lp.value(x4)\n",
        "x5 = lp.value(x5)\n",
        "x6 = lp.value(x6)\n",
        "x7 = lp.value(x7)\n",
        "\n",
        "print(\"z =\", z, \"\\nx1 =\", x1, \"\\nx2 =\", x2, \"\\nx3 =\", x3,\n",
        "  \"\\nx4 =\", x4, \"\\nx5 =\", x5, \"\\nx6 =\", x6, \"\\nx7 =\", x7)"
      ],
      "execution_count": 17,
      "outputs": [
        {
          "output_type": "stream",
          "name": "stdout",
          "text": [
            "z = 23.0 \n",
            "x1 = 2.0 \n",
            "x2 = 6.0 \n",
            "x3 = 0.0 \n",
            "x4 = 7.0 \n",
            "x5 = 0.0 \n",
            "x6 = 3.0 \n",
            "x7 = 5.0\n"
          ]
        }
      ]
    },
    {
      "cell_type": "markdown",
      "metadata": {
        "id": "ciZegOmaiJYW"
      },
      "source": [
        "## Considerações"
      ]
    },
    {
      "cell_type": "markdown",
      "metadata": {
        "id": "UBihNHiniQKK"
      },
      "source": [
        "Os resultados encontrados foram diferentes dos apresentados no PDF do enunciado da tarefa. Então, fiz um \"if\" para verificar se eles atendem às restrições do problema.\n",
        "\n",
        "O código pode ser observado a seguir:"
      ]
    },
    {
      "cell_type": "code",
      "metadata": {
        "colab": {
          "base_uri": "https://localhost:8080/"
        },
        "id": "eIBtd65wjvf4",
        "outputId": "7d9f223f-df03-4006-a088-7171dc160b88"
      },
      "source": [
        "# conferindo o mínimo de funcionários por dia da semana\n",
        "segunda = x1 + x4 + x5 + x6 + x7 >= 17\n",
        "terca   = x2 + x5 + x6 + x7 + x1 >= 13\n",
        "quarta  = x3 + x6 + x7 + x1 + x2 >= 15\n",
        "quinta  = x4 + x7 + x1 + x2 + x3 >= 19\n",
        "sexta   = x5 + x1 + x2 + x3 + x4 >= 14\n",
        "sabado  = x6 + x2 + x3 + x4 + x5 >= 16\n",
        "domingo = x7 + x3 + x4 + x5 + x6 >= 11\n",
        "\n",
        "if(segunda and terca and quarta and quinta and sexta and sabado and domingo):\n",
        "  print(\"Os resultados atendem às restrições 😊\")\n",
        "\n",
        "else:\n",
        "  print(\"Os resultados não atendem às restrições 😪\")"
      ],
      "execution_count": 18,
      "outputs": [
        {
          "output_type": "stream",
          "name": "stdout",
          "text": [
            "Os resultados atendem às restrições 😊\n"
          ]
        }
      ]
    }
  ]
}