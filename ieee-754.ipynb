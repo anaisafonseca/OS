{
  "nbformat": 4,
  "nbformat_minor": 0,
  "metadata": {
    "colab": {
      "name": "Cópia de FEELT31723_Aula01.ipynb",
      "provenance": [],
      "collapsed_sections": []
    },
    "kernelspec": {
      "name": "python3",
      "display_name": "Python 3"
    },
    "language_info": {
      "name": "python"
    }
  },
  "cells": [
    {
      "cell_type": "markdown",
      "metadata": {
        "id": "JuCWSonAkVMr"
      },
      "source": [
        "Verifique como o seu sistema armazena números de ponto flutuante em endereços adjacentes de memória, [*big-endian* ou *little-endian*](https://en.wikipedia.org/wiki/Endianness)?\n",
        "\n",
        "Note que isso não é necessário no sistema do **Colab** que sabemos ser *big-endian*."
      ]
    },
    {
      "cell_type": "code",
      "metadata": {
        "colab": {
          "base_uri": "https://localhost:8080/"
        },
        "id": "0ac6-Sb1jlYB",
        "outputId": "43be36b4-8755-4d89-ec76-3a11002036fc"
      },
      "source": [
        "import numpy as np\n",
        "# Para testar seu sistema para big-endian ou little-endian\n",
        "import struct\n",
        "print(\"big-endian   \", struct.pack(\">f\", 3.5).hex())\n",
        "print(\"little-endian\", struct.pack(\"<f\", 3.5).hex())\n",
        "print(\"qual deles foi igual a '0x40600000'?\")"
      ],
      "execution_count": 1,
      "outputs": [
        {
          "output_type": "stream",
          "text": [
            "big-endian    40600000\n",
            "little-endian 00006040\n",
            "qual deles foi igual a '0x40600000'?\n"
          ],
          "name": "stdout"
        }
      ]
    },
    {
      "cell_type": "markdown",
      "metadata": {
        "id": "7stI64TJHFkq"
      },
      "source": [
        "# **Explorando formato IEEE-754**\n",
        "\n",
        "Como representamos números de ponto flutuante em computadores? A linguagem Python possui um módulo `struct` que permite com que comecemos a investigação."
      ]
    },
    {
      "cell_type": "code",
      "metadata": {
        "colab": {
          "base_uri": "https://localhost:8080/"
        },
        "id": "4ubX7SHudrnA",
        "outputId": "10356482-ed26-439f-ca78-75b0977f2db6"
      },
      "source": [
        "import struct\n",
        "\n",
        "value = np.pi\n",
        "value_bytes = struct.pack(\">f\", value)\n",
        "print(\"Em bytes:\", value_bytes, \"\\nEm hexadecimal:\", value_bytes.hex())"
      ],
      "execution_count": 4,
      "outputs": [
        {
          "output_type": "stream",
          "text": [
            "Em bytes: b'@I\\x0f\\xdb' \n",
            "Em hexadecimal: 40490fdb\n"
          ],
          "name": "stdout"
        }
      ]
    },
    {
      "cell_type": "markdown",
      "metadata": {
        "id": "oYAJ1S-AmiFz"
      },
      "source": [
        "Criamos uma função para converter do tipo nativo `bytes` ([documentação](https://docs.python.org/3/library/stdtypes.html#binaryseq)) para um número em binário:"
      ]
    },
    {
      "cell_type": "code",
      "metadata": {
        "colab": {
          "base_uri": "https://localhost:8080/"
        },
        "id": "6ajXDQsPmiSw",
        "outputId": "6be23f28-89c4-487a-a414-6bc34417edf5"
      },
      "source": [
        "def bytes_to_bin(bytes_value):\n",
        "    hex_value = bytes_value.hex()\n",
        "    ans = ''\n",
        "    for n in hex_value:\n",
        "        tmp = bin(int(n, base=16))[2:]\n",
        "        if len(tmp) < 4:\n",
        "            tmp = '0'*(4 - len(tmp)) + tmp\n",
        "        ans += tmp\n",
        "    return ans\n",
        "  \n",
        "value_bin = bytes_to_bin(value_bytes)\n",
        "print(\"Em binário:\", value_bin)"
      ],
      "execution_count": 5,
      "outputs": [
        {
          "output_type": "stream",
          "text": [
            "Em binário: 01000000010010010000111111011011\n"
          ],
          "name": "stdout"
        }
      ]
    },
    {
      "cell_type": "markdown",
      "metadata": {
        "id": "whYBBOTqm_bo"
      },
      "source": [
        "Podemos criar também a função inversa do mesmo:"
      ]
    },
    {
      "cell_type": "code",
      "metadata": {
        "colab": {
          "base_uri": "https://localhost:8080/"
        },
        "id": "3HfRYDmKeZF0",
        "outputId": "2a0b717d-6ea9-45d9-e256-74f27aa0f770"
      },
      "source": [
        "def bin_to_bytes(bin_value):\n",
        "    bin_value = ''.join(c for c in bin_value if c.isnumeric())\n",
        "    ans = ''\n",
        "    for i in range(0, len(bin_value), 4):\n",
        "        ans += hex(int(bin_value[i:i+4], base=2))[2:]\n",
        "    return bytes.fromhex(ans)\n",
        "    \n",
        "value_bytes = bin_to_bytes(value_bin)\n",
        "print(\"Em bytes:\", value_bytes, \"\\nEm hexadecimal:\", value_bytes.hex())"
      ],
      "execution_count": 6,
      "outputs": [
        {
          "output_type": "stream",
          "text": [
            "Em bytes: b'@I\\x0f\\xdb' \n",
            "Em hexadecimal: 40490fdb\n"
          ],
          "name": "stdout"
        }
      ]
    },
    {
      "cell_type": "markdown",
      "metadata": {
        "id": "cGDkJK9nnR7T"
      },
      "source": [
        "Nossa investigação pode ser mais completa ao gerarmos uma função que nos traz as informações necessárias:"
      ]
    },
    {
      "cell_type": "code",
      "metadata": {
        "colab": {
          "base_uri": "https://localhost:8080/"
        },
        "id": "74LOqr0Qfj7P",
        "outputId": "cf411555-6ab8-436d-85ee-48be8de29011"
      },
      "source": [
        "def bytes_to_float_info(bytes_value):\n",
        "\n",
        "    def value_mantissa(mantissa):\n",
        "        value = 0\n",
        "        for i, b in enumerate(mantissa):\n",
        "            value += 0 if b == '0' else 2**-(i+1)\n",
        "        return value\n",
        "\n",
        "    bin_value = bytes_to_bin(bytes_value) # valor em sequência de 0s e de 1s\n",
        "    lb = len(bin_value) # 32 ou 64 bits\n",
        "    sign = bin_value[0]\n",
        "    exponent = bin_value[1:9] if lb == 32 else bin_value[1:12]\n",
        "    mantissa = bin_value[9:] if lb == 32 else bin_value[12:]\n",
        "    bias = 127 if lb == 32 else 1023 # 2**(len(exponent)-1) - 1\n",
        "    s = 1 if sign == '0' else -1\n",
        "    e = int(exponent, base=2) - bias\n",
        "    m = value_mantissa(mantissa)\n",
        "    value = s*(2**e)*(1 + m)\n",
        "    return { \n",
        "        'sign': {'bin': sign, 'use as': '+' if s > 0 else '-'}, \n",
        "        'exponent': {'bin': exponent, 'raw': e + bias, 'use as': e}, \n",
        "        'mantissa': {'bin': mantissa, 'raw': m, 'use as': 1 + m},\n",
        "        'bias': bias, \n",
        "        'nr_bits': lb,\n",
        "        'value': value,\n",
        "        'value in memory': f\"{value:.100g}\",\n",
        "    }\n",
        "\n",
        "num_info = bytes_to_float_info(value_bytes)\n",
        "\n",
        "from pprint import pprint\n",
        "pprint(num_info)"
      ],
      "execution_count": null,
      "outputs": [
        {
          "output_type": "stream",
          "text": [
            "{'bias': 127,\n",
            " 'exponent': {'bin': '10000000', 'raw': 128, 'use as': 1},\n",
            " 'mantissa': {'bin': '11000000000000000000000', 'raw': 0.75, 'use as': 1.75},\n",
            " 'nr_bits': 32,\n",
            " 'sign': {'bin': '1', 'use as': '-'},\n",
            " 'value': -3.5,\n",
            " 'value in memory': '-3.5'}\n"
          ],
          "name": "stdout"
        }
      ]
    },
    {
      "cell_type": "markdown",
      "metadata": {
        "id": "PvYRPHWWU9v4"
      },
      "source": [
        "A norma **IEEE-754** é que define o modo de armazenar um número de ponto flutuante na memória de um computador. A fórmula para o cálculo a partir dos bits armazenados chegarmos no número representado:\n",
        "\n",
        "`npf = (-1)^s * 2^(e - bias) * (1 + m)`\n",
        "\n",
        "onde `s` é o primeiro bit (0 = positivo, 1 = negativo); `e` é o expoente, a sequência de bits convertida de binário para decimal com algoritmo padrão; e `m` é a fração ou mantissa, a sequência final de bits convertida do bit mais significativo para o menos significativo com potências negativas de 2 (2^-1, 2^-2, 2^-3, etc...) a formar um número real menor do que 1. \n",
        "\n",
        "Para referência:\n",
        "\n",
        "- *Precisão, nº bits, nº bits expoente, bias do expoente, nº bits mantissa*\n",
        "- Simples, 32 bits, 8, 127, 23\n",
        "- Dupla, 64 bits, 11, 1023, 52\n",
        "\n",
        "**Assista à vídeo aula para maiores detalhes.**\n",
        "\n",
        "Colocando tudo junto:"
      ]
    },
    {
      "cell_type": "code",
      "metadata": {
        "id": "czqjF_WbVCRK"
      },
      "source": [
        "def info_float(value, double_precision=False):\n",
        "    endian = \">\" # \">\" big-endian, \"<\" little-endian (quase todos os sistemas, padrão é big-endian)\n",
        "    value_format = endian + (\"d\" if double_precision else \"f\")\n",
        "    value_bytes = struct.pack(value_format, value)\n",
        "    return bytes_to_float_info(value_bytes)"
      ],
      "execution_count": null,
      "outputs": []
    },
    {
      "cell_type": "markdown",
      "metadata": {
        "id": "l3IOxKAkoPMd"
      },
      "source": [
        "Podemos agora experimentar com números distintos:"
      ]
    },
    {
      "cell_type": "code",
      "metadata": {
        "colab": {
          "base_uri": "https://localhost:8080/"
        },
        "id": "0TBYqMh5oP32",
        "outputId": "d22c9cf9-0709-4391-ef68-f680e6cacf9a"
      },
      "source": [
        "real_number = 1/3 # <== altere aqui seu número em ponto flutuante\n",
        "\n",
        "print(\"[Precisão simples]\")\n",
        "pprint(info_float(real_number))\n",
        "\n",
        "print(\"\\n[Precisão dupla]\")\n",
        "pprint(info_float(real_number, double_precision=True))"
      ],
      "execution_count": null,
      "outputs": [
        {
          "output_type": "stream",
          "text": [
            "[Precisão simples]\n",
            "{'bias': 127,\n",
            " 'exponent': {'bin': '01111101', 'raw': 125, 'use as': -2},\n",
            " 'mantissa': {'bin': '01010101010101010101011',\n",
            "              'raw': 0.3333333730697632,\n",
            "              'use as': 1.3333333730697632},\n",
            " 'nr_bits': 32,\n",
            " 'sign': {'bin': '0', 'use as': '+'},\n",
            " 'value': 0.3333333432674408,\n",
            " 'value in memory': '0.3333333432674407958984375'}\n",
            "\n",
            "[Precisão dupla]\n",
            "{'bias': 1023,\n",
            " 'exponent': {'bin': '01111111101', 'raw': 1021, 'use as': -2},\n",
            " 'mantissa': {'bin': '0101010101010101010101010101010101010101010101010101',\n",
            "              'raw': 0.33333333333333326,\n",
            "              'use as': 1.3333333333333333},\n",
            " 'nr_bits': 64,\n",
            " 'sign': {'bin': '0', 'use as': '+'},\n",
            " 'value': 0.3333333333333333,\n",
            " 'value in memory': '0.333333333333333314829616256247390992939472198486328125'}\n"
          ],
          "name": "stdout"
        }
      ]
    },
    {
      "cell_type": "markdown",
      "metadata": {
        "id": "EiZnRfMtodDH"
      },
      "source": [
        "Perceba que os números armazenados na memória **nem sempre são o que esperaríamos que fossem**!"
      ]
    },
    {
      "cell_type": "markdown",
      "metadata": {
        "id": "Z3m3YZLcuuWf"
      },
      "source": [
        "## Diferença mínima entre números\n",
        "\n",
        "Um pequeno experimento e podemos entender a necessidade e o uso de arredondamentos na conversão binário para ponto flutuante:"
      ]
    },
    {
      "cell_type": "code",
      "metadata": {
        "colab": {
          "base_uri": "https://localhost:8080/"
        },
        "id": "EvJI33ixsEM8",
        "outputId": "2b3e7de8-e10a-4b68-f9b7-3962586a1cf9"
      },
      "source": [
        "number = 1/3 # <== altere aqui seu número em ponto flutuante\n",
        "number_info = info_float(number)\n",
        "\n",
        "bin_number = number_info['sign']['bin'] + number_info['exponent']['bin'] + number_info['mantissa']['bin']\n",
        "print('orig', bin_number)\n",
        "\n",
        "bin_number_alt = bin_number[:-1] + ('0' if bin_number[-1] == '1' else '1')\n",
        "print('alt ', bin_number_alt)\n",
        "\n",
        "number_alt_info = bytes_to_float_info(bin_to_bytes(bin_number_alt))\n",
        "\n",
        "print('orig', number_info['value in memory'])\n",
        "print('alt ', number_alt_info['value in memory'])\n"
      ],
      "execution_count": null,
      "outputs": [
        {
          "output_type": "stream",
          "text": [
            "orig 00111110101010101010101010101011\n",
            "alt  00111110101010101010101010101010\n",
            "orig 0.3333333432674407958984375\n",
            "alt  0.333333313465118408203125\n"
          ],
          "name": "stdout"
        }
      ]
    },
    {
      "cell_type": "markdown",
      "metadata": {
        "id": "ZRctkbS5tOra"
      },
      "source": [
        "Podemos ver que a diferença de um único bit menos significativo na mantissa leva a números diferentes no conjunto dos reais, e são números com uma distância significativa. \n",
        "\n",
        "No exemplo com `number = 1/3`, a distância entre eles está na ordem de 10^-8 e que é impossível para um computador representar qualquer número intermediário (por exemplo, `0.33333333`).\n",
        "\n",
        "Vale notar que a **precisão da representação não possui relação alguma com o número de casas decimais dos números representados**."
      ]
    },
    {
      "cell_type": "code",
      "metadata": {
        "colab": {
          "base_uri": "https://localhost:8080/"
        },
        "id": "-H4HYgUS4Yie",
        "outputId": "bc2f8193-058e-4b9e-d708-c8c386bcb998"
      },
      "source": [
        "b = '01000000011000000000000000100000'\n",
        "b = '0100000000001100000000000000010001000000000000000000000000000000'\n",
        "print(len(b))\n",
        "print('0'*32)\n",
        "bytes_to_float_info(bin_to_bytes(b))"
      ],
      "execution_count": null,
      "outputs": [
        {
          "output_type": "stream",
          "text": [
            "64\n",
            "00000000000000000000000000000000\n"
          ],
          "name": "stdout"
        },
        {
          "output_type": "execute_result",
          "data": {
            "text/plain": [
              "{'bias': 1023,\n",
              " 'exponent': {'bin': '10000000000', 'raw': 1024, 'use as': 1},\n",
              " 'mantissa': {'bin': '1100000000000000010001000000000000000000000000000000',\n",
              "  'raw': 0.7500040531158447,\n",
              "  'use as': 1.7500040531158447},\n",
              " 'nr_bits': 64,\n",
              " 'sign': {'bin': '0', 'use as': '+'},\n",
              " 'value': 3.5000081062316895,\n",
              " 'value in memory': '3.500008106231689453125'}"
            ]
          },
          "metadata": {
            "tags": []
          },
          "execution_count": 27
        }
      ]
    },
    {
      "cell_type": "markdown",
      "metadata": {
        "id": "Yrn7ByQXQHu0"
      },
      "source": [
        "## Épsilon da máquina\n",
        "\n",
        "Em aritmética de ponto flutuante, denomina-se épsilon da máquina o menor número que somado a 1 produza resultado diferente de 1, ou seja, que não é arredondado. O épsilon de máquina representa a exatidão relativa da aritmética do computador, e a sua existência é uma consequência direta da precisão finita da aritmética de ponto flutuante. O valor também é chamado de unidade de arredondamento ou menor número representável, e é simbolizado pela letra grega épsilon $\\epsilon$.\n",
        "\n",
        "Fonte: [Wikipedia](https://pt.wikipedia.org/wiki/Épsilon_de_máquina)"
      ]
    },
    {
      "cell_type": "code",
      "metadata": {
        "colab": {
          "base_uri": "https://localhost:8080/"
        },
        "id": "fhkGd8O6mKMs",
        "outputId": "8e95bfab-db78-4e2f-fa79-41c95e469798"
      },
      "source": [
        "machine_epsilon = 1.0\n",
        "while 1.0 + machine_epsilon != 1.0:\n",
        "  machine_epsilon /= 2.0\n",
        "\n",
        "print(f\"[precisão dupla] ϵ = {machine_epsilon}\")"
      ],
      "execution_count": null,
      "outputs": [
        {
          "output_type": "stream",
          "text": [
            "[precisão dupla] ϵ = 1.1102230246251565e-16\n"
          ],
          "name": "stdout"
        }
      ]
    },
    {
      "cell_type": "markdown",
      "metadata": {
        "id": "VP3LCjjhfJfg"
      },
      "source": [
        "É realidade que 1 + ϵ = 1 ?? Podemos verificar:"
      ]
    },
    {
      "cell_type": "code",
      "metadata": {
        "colab": {
          "base_uri": "https://localhost:8080/"
        },
        "id": "LcNRui2tnlzT",
        "outputId": "7053f1e1-0268-4ce9-bafb-af7a7904b7c5"
      },
      "source": [
        "1 + machine_epsilon == 1"
      ],
      "execution_count": null,
      "outputs": [
        {
          "output_type": "execute_result",
          "data": {
            "text/plain": [
              "True"
            ]
          },
          "metadata": {
            "tags": []
          },
          "execution_count": 10
        }
      ]
    },
    {
      "cell_type": "markdown",
      "metadata": {
        "id": "SRuVPwDvQ7gk"
      },
      "source": [
        "## Exemplo de Cálculo com Erro Numérico\n",
        "\n",
        "Qual o seno de π?\n"
      ]
    },
    {
      "cell_type": "code",
      "metadata": {
        "colab": {
          "base_uri": "https://localhost:8080/"
        },
        "id": "oNfH1gpAn3bZ",
        "outputId": "9f365c05-fd12-49ab-9aec-7abb3f2cd3a2"
      },
      "source": [
        "import numpy as np\n",
        "\n",
        "print(np.sin(np.pi))"
      ],
      "execution_count": null,
      "outputs": [
        {
          "output_type": "stream",
          "text": [
            "1.2246467991473532e-16\n"
          ],
          "name": "stdout"
        }
      ]
    },
    {
      "cell_type": "markdown",
      "metadata": {
        "id": "7YbGcoabcHaE"
      },
      "source": [
        "![Círculo Unitário, trigonometria](https://i.pinimg.com/736x/99/22/d6/9922d68e6db185d8c86a34161ba5d68f--unit-circle-trigonometry-physics-classroom.jpg)\n",
        "\n",
        "Logo, **sen(π) = 0**, não `1.2246467991473532e-16`!\n",
        "\n",
        "Mas, π = 3.141592653589793238462643383279502884197169399375105820974944592307816406286...\n",
        "\n",
        "Veja mais em: [100mil dígitos de π](http://www.geom.uiuc.edu/~huberty/math5337/groupe/digits.html)\n",
        "\n",
        "Para um computador:"
      ]
    },
    {
      "cell_type": "code",
      "metadata": {
        "colab": {
          "base_uri": "https://localhost:8080/"
        },
        "id": "x-zBARisoXV5",
        "outputId": "7914c41c-9514-4f9f-8ffa-39d7e4e04087"
      },
      "source": [
        "info_pi = info_float(np.pi, double_precision=True)\n",
        "pprint(info_pi)"
      ],
      "execution_count": null,
      "outputs": [
        {
          "output_type": "stream",
          "text": [
            "{'bias': 1023,\n",
            " 'exponent': {'bin': '10000000000', 'raw': 1024, 'use as': 1},\n",
            " 'mantissa': {'bin': '1001001000011111101101010100010001000010110100011000',\n",
            "              'raw': 0.5707963267948966,\n",
            "              'use as': 1.5707963267948966},\n",
            " 'nr_bits': 64,\n",
            " 'sign': {'bin': '0', 'use as': '+'},\n",
            " 'value': 3.141592653589793,\n",
            " 'value in memory': '3.141592653589793115997963468544185161590576171875'}\n"
          ],
          "name": "stdout"
        }
      ]
    },
    {
      "cell_type": "code",
      "metadata": {
        "colab": {
          "base_uri": "https://localhost:8080/"
        },
        "id": "xDhL2UPNbxuK",
        "outputId": "8a4bc305-4d09-4def-f830-c85b8518162f"
      },
      "source": [
        "print('π na memória (double) =', info_pi['value in memory'])\n",
        "print('π na realidade        =','3.141592653589793238462643383279502884197169399375...')\n",
        "print('                                         ^')"
      ],
      "execution_count": null,
      "outputs": [
        {
          "output_type": "stream",
          "text": [
            "π na memória (double) = 3.141592653589793115997963468544185161590576171875\n",
            "π na realidade        = 3.141592653589793238462643383279502884197169399375...\n",
            "                                         ^\n"
          ],
          "name": "stdout"
        }
      ]
    },
    {
      "cell_type": "markdown",
      "metadata": {
        "id": "hb7HAdQufcvz"
      },
      "source": [
        "Veja que existe diferença a partir da 16ª casa decimal (erro na ordem de 10^-16), ou seja, π não é completamente representável por um número de bits fixo, seja feita em qualquer precisão em um computador. Para ser honesto, nem mesmo pelo sistema decimal (ver [números transcendentais](https://pt.wikipedia.org/wiki/Número_transcendente)).\n",
        "\n",
        "Perceba que `sen(3.141592653589793115997963468544185161590576171875)` é, de fato, algo próximo de `1.22e-16`. Mas também perceba que `1.22e-16` está na ordem do *épsilon de máquina* e, portanto, **sendo coerentes podemos assumir como zero nas nossas análises**.\n",
        "\n",
        "Logo, diferenças ínfimas na precisão de representação de um número podem levar a discrepâncias no resultado esperado de qualquer cálculo numérico, em especial com algoritmos que utilizam inúmeras operações aritméticas. É necessário que sempre estejamos atentos a isso."
      ]
    },
    {
      "cell_type": "code",
      "metadata": {
        "id": "_bVvXZAshq5f"
      },
      "source": [],
      "execution_count": null,
      "outputs": []
    }
  ]
}