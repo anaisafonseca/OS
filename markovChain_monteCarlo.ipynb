{
  "cells": [
    {
      "cell_type": "code",
      "execution_count": null,
      "metadata": {
        "id": "DV1yVL05KxWa"
      },
      "outputs": [],
      "source": [
        "import numpy as np\n",
        "from scipy import stats\n",
        "import matplotlib.pyplot as plt"
      ]
    },
    {
      "cell_type": "markdown",
      "metadata": {
        "id": "jlqzknto7TGt"
      },
      "source": [
        "# Preparação de códigos\n"
      ]
    },
    {
      "cell_type": "markdown",
      "metadata": {
        "id": "eeKwhtqxVXqL"
      },
      "source": [
        "A tarefa consiste em implementar uma MCMC para um processo com estados climáticos diários e a consequente simulação de variável contínua (precipitação de chuva) a fim de estimação de uma função de sua densidade de probabilidade (PDF). Para usufruir da PDF estimada, duas questões são postas ao final deste *notebook* referentes à previsão desta grandeza, mais especificamente, sobre probabilidade de faixas de valores de precipitação anual.\n",
        "\n",
        "Todos os dados aqui apresentados são fictícios e não incluem uma análise ou dependência da estação do ano que seria importante numa análise como essa."
      ]
    },
    {
      "cell_type": "markdown",
      "metadata": {
        "id": "_Fl1vME95tRy"
      },
      "source": [
        "## Parte 1: Definindo a cadeia de Markov"
      ]
    },
    {
      "cell_type": "markdown",
      "metadata": {
        "id": "dMJ3qSGeVEwU"
      },
      "source": [
        "Para facilitar o trabalho, incluo aqui uma proposta de classe para *Markov Chains*:"
      ]
    },
    {
      "cell_type": "code",
      "execution_count": null,
      "metadata": {
        "id": "QcYapb23KibC"
      },
      "outputs": [],
      "source": [
        "class MC:\n",
        "    def __init__(self, states, probs, init=0):\n",
        "        self.states = states.split(\"|\")\n",
        "        self.probs = np.array(probs)\n",
        "        if any(p != len(self.states) for p in self.probs.shape):\n",
        "            raise Exception(\"Probabilidades não se adequam ao número de estados\")\n",
        "        self.current = init if init < len(self.states) else 0\n",
        "    def next(self):\n",
        "        probs = np.cumsum(self.probs[self.current,:])\n",
        "        if np.abs(1 - probs[-1]) > 1e-12:\n",
        "            raise Exception(f\"Probabilidades não somam 100% para estado\"\n",
        "                f\" {self.current} ({self.current_state()})\")\n",
        "        rn = np.random.random()\n",
        "        for i in range(probs.shape[0]):\n",
        "            if rn < probs[i]:\n",
        "                self.current = i\n",
        "                return i\n",
        "    def next_state(self):\n",
        "        self.next()\n",
        "        return self.current_state()\n",
        "    def current_state(self):\n",
        "        return self.states[self.current]"
      ]
    },
    {
      "cell_type": "markdown",
      "metadata": {
        "id": "c9c6obLyxVpK"
      },
      "source": [
        "Com base na cadeia de Markov representada pelo grafo a seguir (cada estado é um dia neste cenário), \n",
        "\n",
        "![](https://github.com/iperetta/FEELT31723/raw/main/clima.png)\n",
        "\n",
        "Preencha a tabela de probabilidades para os estados:\n",
        "\n",
        "- 0 : Aberto\n",
        "- 1 : Encoberto\n",
        "- 2 : Nublado\n",
        "- 3 : Chuvoso\n",
        "- 4 : Tempestivo\n",
        "\n",
        "e rode o código abaixo:"
      ]
    },
    {
      "cell_type": "code",
      "execution_count": null,
      "metadata": {
        "colab": {
          "base_uri": "https://localhost:8080/"
        },
        "id": "H-RR1P2jKuTe",
        "outputId": "17721cbb-f088-4735-97bb-3457c0471f64"
      },
      "outputs": [
        {
          "name": "stdout",
          "output_type": "stream",
          "text": [
            "Aberto\n",
            "Tempestivo\n",
            "Nublado\n",
            "Nublado\n",
            "Encoberto\n",
            "Nublado\n",
            "Encoberto\n",
            "Aberto\n",
            "Aberto\n",
            "Aberto\n"
          ]
        }
      ],
      "source": [
        "clima = MC(\"Aberto|Encoberto|Nublado|Chuvoso|Tempestivo\", \n",
        "           [[0.70,   0.20,    0.05,   0.03,    0.02],\n",
        "            [0.30,   0.35,    0.25,   0.07,    0.03],\n",
        "            [0.10,   0.30,    0.35,   0.20,    0.05],\n",
        "            [0.15,   0.20,    0.30,   0.20,    0.15],\n",
        "            [0.02,   0.03,    0.45,   0.34,    0.16]\n",
        "           ])\n",
        "\n",
        "# Para testar, rode esta célula até que \n",
        "# todos os estados sejam apresentados pelo menos uma vez:\n",
        "for i in range(10):\n",
        "    print(clima.current_state())\n",
        "    clima.next()"
      ]
    },
    {
      "cell_type": "markdown",
      "metadata": {
        "id": "juRADnzM5zp2"
      },
      "source": [
        "## Parte 2: Definindo a geração dos dados diários"
      ]
    },
    {
      "cell_type": "markdown",
      "metadata": {
        "id": "7xkDKdF00Pz7"
      },
      "source": [
        "Partindo da premissa de que a cada estado (ou dia) temos uma precipitação em milimetros com distribuição normal, mas diferentes média e desvio-padrão por estado, no código a seguir preencha a parte decisória da função aninhada `daily_rainfall` com os seguintes dados para os estados:\n",
        "\n",
        "- 0 : Aberto $\\Rightarrow \\mu = 0.026, \\;\\sigma = 0.005$\n",
        "- 1 : Encoberto $\\Rightarrow \\mu = 0.26, \\;\\sigma = 0.05$\n",
        "- 2 : Nublado $\\Rightarrow \\mu = 1.4, \\;\\sigma = 0.4$\n",
        "- 3 : Chuvoso $\\Rightarrow \\mu = 5, \\;\\sigma = 1$\n",
        "- 4 : Tempestivo $\\Rightarrow \\mu = 12, \\;\\sigma = 2$\n",
        "\n",
        "Note que esses valores foram empiricamente determinados para que se tivesse uma precipitação anual coerente com os dados climáticos encontrados na internet, mas não condizem com nenhuma realidade específica."
      ]
    },
    {
      "cell_type": "code",
      "execution_count": null,
      "metadata": {
        "colab": {
          "base_uri": "https://localhost:8080/",
          "height": 480
        },
        "id": "Irwc284qUi-I",
        "outputId": "67358a32-3a5f-483d-c693-0f31f31aa018"
      },
      "outputs": [
        {
          "name": "stdout",
          "output_type": "stream",
          "text": [
            "Dia 1: Aberto \n",
            "Dia 2: Aberto \n",
            "Dia 3: Aberto \n",
            "Dia 4: Aberto \n",
            "Dia 5: Aberto \n",
            "Dia 6: Aberto \n",
            "Dia 7: Tempestivo \n",
            "Dia 8: Chuvoso \n",
            "Dia 9: Tempestivo \n",
            "Dia 10: Chuvoso \n",
            "Acumulado em 10 dias: 36.11 mm\n"
          ]
        },
        {
          "data": {
            "image/png": "[encoded data removed]",
            "text/plain": [
              "<Figure size 432x288 with 1 Axes>"
            ]
          },
          "metadata": {
            "needs_background": "light"
          },
          "output_type": "display_data"
        }
      ],
      "source": [
        "def simulate_days(weather, ndays, verbose=False):\n",
        "    def daily_rainfall(weather, verbose=False):\n",
        "        if(weather.current_state() == \"Aberto\"):\n",
        "          mu = 0.026\n",
        "          sigma = 0.005\n",
        "        elif(weather.current_state() == \"Encoberto\"):\n",
        "          mu = 0.26\n",
        "          sigma = 0.05\n",
        "        elif(weather.current_state() == \"Nublado\"):\n",
        "          mu = 1.4\n",
        "          sigma = 0.4\n",
        "        elif(weather.current_state() == \"Chuvoso\"):\n",
        "          mu = 5\n",
        "          sigma = 1\n",
        "        elif(weather.current_state() == \"Tempestivo\"):\n",
        "          mu = 12\n",
        "          sigma = 2\n",
        "        rainfall = np.random.normal(loc=mu,scale=sigma) # sorteio de valor com distribuição normal\n",
        "        if verbose: print(weather.current_state(), end=\" \")\n",
        "        weather.next()\n",
        "        return rainfall if rainfall > 0 else 0\n",
        "    rainfall = []\n",
        "    for d in range(ndays):\n",
        "        if verbose: print(f\"Dia {d+1}:\", end=\" \")\n",
        "        rainfall.append(daily_rainfall(weather, verbose))\n",
        "        if verbose: print(\"\")\n",
        "    return rainfall # lista com a precipitação de todos os dias simulados\n",
        "\n",
        "# Para testar, verifique se a precipitação indicada condiz com o estado do dia:\n",
        "dias = 10\n",
        "mmchuva = simulate_days(clima, dias, verbose=True)\n",
        "acumulado = np.cumsum(mmchuva)\n",
        "print(f\"Acumulado em {dias} dias: {acumulado[-1]:0.2f} mm\")\n",
        "plt.stem(range(1,dias+1),mmchuva, use_line_collection=True)\n",
        "plt.xlabel(\"Tempo (dias)\")\n",
        "plt.ylabel(\"Precipitação (mm)\")\n",
        "plt.plot(range(1,dias+1),acumulado,'g')\n",
        "plt.show()"
      ]
    },
    {
      "cell_type": "markdown",
      "metadata": {
        "id": "iqy61SMc6kjS"
      },
      "source": [
        "## Parte 3: Definindo a simulação da precipitação anual"
      ]
    },
    {
      "cell_type": "markdown",
      "metadata": {
        "id": "o52O7ULV2TYf"
      },
      "source": [
        "Gere o código necessário para simular `niter` vezes a precipitação anual (365 dias) e colete os resultados para gerar o histograma e consequente KDE das precipitações anuais simuladas.\n",
        "\n",
        "**Dica:** Utilize `np.sum(simulate_days(weather, ndays))` para obter o valor de precipitação anual para cada iteração da simulação."
      ]
    },
    {
      "cell_type": "code",
      "execution_count": null,
      "metadata": {
        "colab": {
          "base_uri": "https://localhost:8080/",
          "height": 265
        },
        "id": "YvFBp2Nlem67",
        "outputId": "9c38997e-1464-4b7f-fe76-655c8b1411e8"
      },
      "outputs": [
        {
          "data": {
            "image/png": "[encoded data removed]",
            "text/plain": [
              "<Figure size 432x288 with 1 Axes>"
            ]
          },
          "metadata": {
            "needs_background": "light"
          },
          "output_type": "display_data"
        }
      ],
      "source": [
        "def simulate(weather, ndays, niter):\n",
        "    precipitacoesAnuais = []\n",
        "    for _ in range(niter):\n",
        "        ano = np.sum(simulate_days(weather, ndays))\n",
        "        precipitacoesAnuais.append(ano)\n",
        "    return precipitacoesAnuais\n",
        "\n",
        "dias = 365\n",
        "niter = 10000 # troque por um valor que achar coerente (note que a simulação demanda um certo poder computacional)\n",
        "dados = simulate(clima, dias, niter)\n",
        "_, bins, _ = plt.hist(dados, density=True)\n",
        "kde = stats.gaussian_kde(dados)\n",
        "xkde = np.linspace(np.min(bins), np.max(bins), 100)\n",
        "plt.plot(xkde, kde(xkde))\n",
        "plt.show()\n",
        "\n"
      ]
    },
    {
      "cell_type": "markdown",
      "metadata": {
        "id": "1N_mMyzA4kWb"
      },
      "source": [
        "# Questões"
      ]
    },
    {
      "cell_type": "markdown",
      "metadata": {
        "id": "1MUp2wm12A1y"
      },
      "source": [
        "Para facilitar o trabalho, incluo aqui a Quadratura de Gauss Legendre:"
      ]
    },
    {
      "cell_type": "code",
      "execution_count": null,
      "metadata": {
        "id": "0vuBsP39wsKp"
      },
      "outputs": [],
      "source": [
        "def legendre_coefficients(n):\n",
        "    aux = np.polynomial.legendre.leg2poly([0]*(n-1) + [1])\n",
        "    return np.reshape(aux, (aux.shape[0], 1))\n",
        "\n",
        "def quadrature_nodes(n_points):\n",
        "    coeffs = list(reversed(legendre_coefficients(n_points+1).flatten().tolist()))\n",
        "    roots = np.roots(coeffs).tolist()\n",
        "    return np.array(sorted(roots))\n",
        "\n",
        "def quadrature_weights(n_points):\n",
        "    if n_points == 1:\n",
        "        return np.array([2])\n",
        "    nodes = quadrature_nodes(n_points)\n",
        "    nodes = np.reshape(nodes, (nodes.shape[0], 1))\n",
        "    coeffs = list(reversed(legendre_coefficients(n_points+1).flatten().tolist()))\n",
        "    d_coeffs = np.polyder(coeffs)\n",
        "    dN = d_coeffs.shape[0]\n",
        "    d_coeffs = np.reshape(d_coeffs, (dN, 1))\n",
        "    aux = np.ones((nodes.shape[0], 1))\n",
        "    for n in range(1, dN):\n",
        "        aux = np.c_[nodes**n, aux]\n",
        "    dPn = (aux @ d_coeffs).flatten()\n",
        "    return 2/((1 - nodes.flatten()**2)*dPn**2)\n",
        "\n",
        "def qgl(f, a, b, N):\n",
        "    if a > b: raise Exception(f\"a={a} e b={b}; a > b não pode ser integrado\")\n",
        "    x = quadrature_nodes(N)\n",
        "    w = quadrature_weights(N)\n",
        "    return (b-a)/2*np.sum(w*f((b-a)/2*x+(b+a)/2))"
      ]
    },
    {
      "cell_type": "markdown",
      "metadata": {
        "id": "uYx2m37V29QY"
      },
      "source": [
        "### A) Qual a probabilidade dentro deste cenário de termos uma precipitação anual **maior do que** 750mm ?\n",
        "**Dica:** Utilize `np.max(dados)` como limite superior de integração"
      ]
    },
    {
      "cell_type": "code",
      "execution_count": null,
      "metadata": {
        "colab": {
          "base_uri": "https://localhost:8080/"
        },
        "id": "glCx4tZn3YWa",
        "outputId": "f7d561c8-c210-4a45-a051-abd31ab130fb"
      },
      "outputs": [
        {
          "name": "stdout",
          "output_type": "stream",
          "text": [
            "N=5:  0.01691523163697021\n",
            "N=10:  0.016922001419219325\n",
            "N=15:  0.016922032819434874\n",
            "N=20:  0.016922032847199762\n",
            "\n",
            "\n",
            "Para limite superior igual à np.max(dados)*10^2:\n",
            "N=25:  1.873074895695011e-09\n",
            "N=30:  0.0009445791996814506\n",
            "N=35:  0.007363631558873136\n",
            "N=40:  0.013205456325533844\n"
          ]
        }
      ],
      "source": [
        "f = kde\n",
        "a = 750\n",
        "b = np.max(dados)\n",
        "for N in (5,10,15,20):\n",
        "  print(f\"N={N}: \", qgl(f, a, b, N))\n",
        "\n",
        "b = b*10**2  # tentei fazer com 10**3 como sugerido em aula, mas ele retornou tudo 0.0\n",
        "print(\"\\n\\nPara limite superior igual à np.max(dados)*10^2:\") \n",
        "for N in (25,30,35,40):  # N teve que ser maior aqui para que retornasse valores mais próximos\n",
        "  print(f\"N={N}: \", qgl(f, a, b, N))"
      ]
    },
    {
      "cell_type": "markdown",
      "metadata": {
        "id": "JXYIozj43ZrI"
      },
      "source": [
        "### B) Qual a probabilidade dentro deste cenário de termos uma precipitação anual **menor do que** 400mm ?\n",
        "**Dica:** Utilize `np.min(dados)` como limite inferior de integração"
      ]
    },
    {
      "cell_type": "code",
      "execution_count": null,
      "metadata": {
        "colab": {
          "base_uri": "https://localhost:8080/"
        },
        "id": "lYTLzU-R4NJS",
        "outputId": "426e1735-9340-45a4-985a-e495d5e71c0a"
      },
      "outputs": [
        {
          "name": "stdout",
          "output_type": "stream",
          "text": [
            "N=5:  0.0286937682551688\n",
            "N=10:  0.028681651373742862\n",
            "N=15:  0.028681650810087164\n",
            "N=20:  0.02868165081111519\n",
            "\n",
            "\n",
            "Para limite inferior igual à 0:\n",
            "N=5:  0.030001808885441756\n",
            "N=10:  0.02870758757612088\n",
            "N=15:  0.0288800790094038\n",
            "N=20:  0.028839515334155685\n"
          ]
        }
      ],
      "source": [
        "f = kde\n",
        "a = np.min(dados)\n",
        "b = 400\n",
        "for N in (5,10,15,20):\n",
        "  print(f\"N={N}: \", qgl(f, a, b, N))\n",
        "\n",
        "a = 0\n",
        "print(\"\\n\\nPara limite inferior igual à 0:\")\n",
        "for N in (5,10,15,20):\n",
        "  print(f\"N={N}: \", qgl(f, a, b, N))"
      ]
    }
  ],
  "metadata": {
    "colab": {
      "collapsed_sections": [],
      "name": "tarefa mcmc.ipynb",
      "provenance": []
    },
    "kernelspec": {
      "display_name": "Python 3",
      "name": "python3"
    },
    "language_info": {
      "name": "python"
    }
  },
  "nbformat": 4,
  "nbformat_minor": 0
}
