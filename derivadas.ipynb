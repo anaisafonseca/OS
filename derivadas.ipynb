{
  "nbformat": 4,
  "nbformat_minor": 0,
  "metadata": {
    "colab": {
      "name": "derivadas.ipynb",
      "provenance": [],
      "collapsed_sections": []
    },
    "kernelspec": {
      "name": "python3",
      "display_name": "Python 3"
    },
    "language_info": {
      "name": "python"
    },
    "widgets": {
      "application/vnd.jupyter.widget-state+json": {
        "f2c8f273c94d43269d1588b602906339": {
          "model_module": "@jupyter-widgets/controls",
          "model_name": "VBoxModel",
          "model_module_version": "1.5.0",
          "state": {
            "_view_name": "VBoxView",
            "_dom_classes": [
              "widget-interact"
            ],
            "_model_name": "VBoxModel",
            "_view_module": "@jupyter-widgets/controls",
            "_model_module_version": "1.5.0",
            "_view_count": null,
            "_view_module_version": "1.5.0",
            "box_style": "",
            "layout": "IPY_MODEL_06a1064c6b844c5199703837e2fc3cd7",
            "_model_module": "@jupyter-widgets/controls",
            "children": [
              "IPY_MODEL_129232a15f054c27a24174992e98caf8",
              "IPY_MODEL_a57da28073bb4aceb8de985fb34583c6"
            ]
          }
        },
        "06a1064c6b844c5199703837e2fc3cd7": {
          "model_module": "@jupyter-widgets/base",
          "model_name": "LayoutModel",
          "model_module_version": "1.2.0",
          "state": {
            "_view_name": "LayoutView",
            "grid_template_rows": null,
            "right": null,
            "justify_content": null,
            "_view_module": "@jupyter-widgets/base",
            "overflow": null,
            "_model_module_version": "1.2.0",
            "_view_count": null,
            "flex_flow": null,
            "width": null,
            "min_width": null,
            "border": null,
            "align_items": null,
            "bottom": null,
            "_model_module": "@jupyter-widgets/base",
            "top": null,
            "grid_column": null,
            "overflow_y": null,
            "overflow_x": null,
            "grid_auto_flow": null,
            "grid_area": null,
            "grid_template_columns": null,
            "flex": null,
            "_model_name": "LayoutModel",
            "justify_items": null,
            "grid_row": null,
            "max_height": null,
            "align_content": null,
            "visibility": null,
            "align_self": null,
            "height": null,
            "min_height": null,
            "padding": null,
            "grid_auto_rows": null,
            "grid_gap": null,
            "max_width": null,
            "order": null,
            "_view_module_version": "1.2.0",
            "grid_template_areas": null,
            "object_position": null,
            "object_fit": null,
            "grid_auto_columns": null,
            "margin": null,
            "display": null,
            "left": null
          }
        },
        "129232a15f054c27a24174992e98caf8": {
          "model_module": "@jupyter-widgets/controls",
          "model_name": "IntSliderModel",
          "model_module_version": "1.5.0",
          "state": {
            "_view_name": "IntSliderView",
            "style": "IPY_MODEL_638c65738f414ae6b4a8d780889f323f",
            "_dom_classes": [],
            "description": "max_x",
            "step": 10,
            "_model_name": "IntSliderModel",
            "orientation": "horizontal",
            "max": 1000,
            "_view_module": "@jupyter-widgets/controls",
            "_model_module_version": "1.5.0",
            "value": 30,
            "_view_count": null,
            "disabled": false,
            "_view_module_version": "1.5.0",
            "min": 10,
            "continuous_update": true,
            "readout_format": "d",
            "description_tooltip": null,
            "readout": true,
            "_model_module": "@jupyter-widgets/controls",
            "layout": "IPY_MODEL_d440727d0f3a43ca912fbb69117c212b"
          }
        },
        "a57da28073bb4aceb8de985fb34583c6": {
          "model_module": "@jupyter-widgets/output",
          "model_name": "OutputModel",
          "model_module_version": "1.0.0",
          "state": {
            "_view_name": "OutputView",
            "msg_id": "",
            "_dom_classes": [],
            "_model_name": "OutputModel",
            "outputs": [
              {
                "output_type": "display_data",
                "metadata": {
                  "tags": [],
                  "needs_background": "light"
                },
                "image/png": "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\n",
                "text/plain": "<Figure size 432x288 with 1 Axes>"
              }
            ],
            "_view_module": "@jupyter-widgets/output",
            "_model_module_version": "1.0.0",
            "_view_count": null,
            "_view_module_version": "1.0.0",
            "layout": "IPY_MODEL_ca95d1c353f54aaf9a2c29d08ccee1ad",
            "_model_module": "@jupyter-widgets/output"
          }
        },
        "638c65738f414ae6b4a8d780889f323f": {
          "model_module": "@jupyter-widgets/controls",
          "model_name": "SliderStyleModel",
          "model_module_version": "1.5.0",
          "state": {
            "_view_name": "StyleView",
            "handle_color": null,
            "_model_name": "SliderStyleModel",
            "description_width": "",
            "_view_module": "@jupyter-widgets/base",
            "_model_module_version": "1.5.0",
            "_view_count": null,
            "_view_module_version": "1.2.0",
            "_model_module": "@jupyter-widgets/controls"
          }
        },
        "d440727d0f3a43ca912fbb69117c212b": {
          "model_module": "@jupyter-widgets/base",
          "model_name": "LayoutModel",
          "model_module_version": "1.2.0",
          "state": {
            "_view_name": "LayoutView",
            "grid_template_rows": null,
            "right": null,
            "justify_content": null,
            "_view_module": "@jupyter-widgets/base",
            "overflow": null,
            "_model_module_version": "1.2.0",
            "_view_count": null,
            "flex_flow": null,
            "width": null,
            "min_width": null,
            "border": null,
            "align_items": null,
            "bottom": null,
            "_model_module": "@jupyter-widgets/base",
            "top": null,
            "grid_column": null,
            "overflow_y": null,
            "overflow_x": null,
            "grid_auto_flow": null,
            "grid_area": null,
            "grid_template_columns": null,
            "flex": null,
            "_model_name": "LayoutModel",
            "justify_items": null,
            "grid_row": null,
            "max_height": null,
            "align_content": null,
            "visibility": null,
            "align_self": null,
            "height": null,
            "min_height": null,
            "padding": null,
            "grid_auto_rows": null,
            "grid_gap": null,
            "max_width": null,
            "order": null,
            "_view_module_version": "1.2.0",
            "grid_template_areas": null,
            "object_position": null,
            "object_fit": null,
            "grid_auto_columns": null,
            "margin": null,
            "display": null,
            "left": null
          }
        },
        "ca95d1c353f54aaf9a2c29d08ccee1ad": {
          "model_module": "@jupyter-widgets/base",
          "model_name": "LayoutModel",
          "model_module_version": "1.2.0",
          "state": {
            "_view_name": "LayoutView",
            "grid_template_rows": null,
            "right": null,
            "justify_content": null,
            "_view_module": "@jupyter-widgets/base",
            "overflow": null,
            "_model_module_version": "1.2.0",
            "_view_count": null,
            "flex_flow": null,
            "width": null,
            "min_width": null,
            "border": null,
            "align_items": null,
            "bottom": null,
            "_model_module": "@jupyter-widgets/base",
            "top": null,
            "grid_column": null,
            "overflow_y": null,
            "overflow_x": null,
            "grid_auto_flow": null,
            "grid_area": null,
            "grid_template_columns": null,
            "flex": null,
            "_model_name": "LayoutModel",
            "justify_items": null,
            "grid_row": null,
            "max_height": null,
            "align_content": null,
            "visibility": null,
            "align_self": null,
            "height": null,
            "min_height": null,
            "padding": null,
            "grid_auto_rows": null,
            "grid_gap": null,
            "max_width": null,
            "order": null,
            "_view_module_version": "1.2.0",
            "grid_template_areas": null,
            "object_position": null,
            "object_fit": null,
            "grid_auto_columns": null,
            "margin": null,
            "display": null,
            "left": null
          }
        }
      }
    }
  },
  "cells": [
    {
      "cell_type": "markdown",
      "metadata": {
        "id": "wnjgTGT3LFJr"
      },
      "source": [
        "> Anaísa Forti da Fonseca $\\vert$ 11811ECP012"
      ]
    },
    {
      "cell_type": "markdown",
      "metadata": {
        "id": "nWtHTluyG0-h"
      },
      "source": [
        "# **Derivadas de Funções**"
      ]
    },
    {
      "cell_type": "code",
      "metadata": {
        "id": "JoL5Tqa8HLjQ"
      },
      "source": [
        "import numpy as np\n",
        "import matplotlib.pyplot as plt\n",
        "from ipywidgets import interact"
      ],
      "execution_count": null,
      "outputs": []
    },
    {
      "cell_type": "code",
      "metadata": {
        "id": "LAhKX3r6-bo_",
        "colab": {
          "base_uri": "https://localhost:8080/",
          "height": 265
        },
        "outputId": "b81a0daf-166a-487b-cb4d-dd1eadfb9b1e"
      },
      "source": [
        "def ddx(f, x0):\n",
        "    h = np.finfo(float).eps\n",
        "    return (f(x0 + h) - f(x0))/h\n",
        "\n",
        "x = np.linspace(0, 2*np.pi, 100)\n",
        "fx = lambda x: np.sin(x)\n",
        "d_fx = ddx(fx, x)\n",
        "plt.plot(x, fx(x), label=\"original\")\n",
        "plt.plot(x, d_fx, label=\"derivada\")\n",
        "plt.show()"
      ],
      "execution_count": null,
      "outputs": [
        {
          "output_type": "display_data",
          "data": {
            "image/png": "[encoded data removed]",
            "text/plain": [
              "<Figure size 432x288 with 1 Axes>"
            ]
          },
          "metadata": {
            "tags": [],
            "needs_background": "light"
          }
        }
      ]
    },
    {
      "cell_type": "code",
      "metadata": {
        "colab": {
          "base_uri": "https://localhost:8080/"
        },
        "id": "hJym0ZqsVk9v",
        "outputId": "58f74dac-c3a8-45b3-fd59-937f0e034d8d"
      },
      "source": [
        "## EXERCÍCIO ##\n",
        "import numpy as np\n",
        "import matplotlib.pyplot as plt\n",
        "from ipywidgets import interact\n",
        "\n",
        "N = 100\n",
        "x = np.linspace(0., 1.5, N)\n",
        "y = lambda x: 0.5 * (np.e)**(2*x) * ((3*np.cos(3*x)) - (2*np.sin(3*x)))\n",
        "\n",
        "def ddx(f, x0):\n",
        "    h = np.finfo(float).eps\n",
        "    return (f(x0 + h) - f(x0))/h\n",
        "\n",
        "derivadas = ddx(y,x)\n",
        "soma = 0\n",
        "for d in derivadas:\n",
        "  soma += d\n",
        "media = soma/(len(derivadas))\n",
        "print(\"média: \", media)"
      ],
      "execution_count": null,
      "outputs": [
        {
          "output_type": "stream",
          "text": [
            "média:  9.1240625\n"
          ],
          "name": "stdout"
        }
      ]
    },
    {
      "cell_type": "code",
      "metadata": {
        "id": "emxNLnZZqxyN",
        "colab": {
          "base_uri": "https://localhost:8080/",
          "height": 297,
          "referenced_widgets": [
            "f2c8f273c94d43269d1588b602906339",
            "06a1064c6b844c5199703837e2fc3cd7",
            "129232a15f054c27a24174992e98caf8",
            "a57da28073bb4aceb8de985fb34583c6",
            "638c65738f414ae6b4a8d780889f323f",
            "d440727d0f3a43ca912fbb69117c212b",
            "ca95d1c353f54aaf9a2c29d08ccee1ad"
          ]
        },
        "outputId": "80fb1325-5410-41e6-e920-851c20dc65e1"
      },
      "source": [
        "@interact(max_x=(10, 1000, 10))\n",
        "def estudo_eps(max_x=1000):\n",
        "    def ddx(f, x0, alpha):\n",
        "        h = alpha*np.finfo(float).eps\n",
        "        return (f(x0 + h) - f(x0))/h\n",
        "\n",
        "    fx = lambda x: x*np.exp(-x)*np.sin(x)\n",
        "    dfx = lambda x: np.exp(-x)*(-x*np.sin(x) + np.sin(x) + x*np.cos(x))\n",
        "    n = 1000\n",
        "    err = np.zeros((n, ))\n",
        "    x = 2\n",
        "    for i in range(1, n):\n",
        "        err[i] = abs(ddx(fx, x, i) - dfx(x))\n",
        "    plt.plot(range(n), err)#, use_line_collection=True)\n",
        "    plt.xlim([1, max_x])\n",
        "    plt.grid('on')\n",
        "    plt.show()"
      ],
      "execution_count": null,
      "outputs": [
        {
          "output_type": "display_data",
          "data": {
            "application/vnd.jupyter.widget-view+json": {
              "model_id": "f2c8f273c94d43269d1588b602906339",
              "version_minor": 0,
              "version_major": 2
            },
            "text/plain": [
              "interactive(children=(IntSlider(value=1000, description='max_x', max=1000, min=10, step=10), Output()), _dom_c…"
            ]
          },
          "metadata": {
            "tags": []
          }
        }
      ]
    },
    {
      "cell_type": "code",
      "metadata": {
        "id": "tmEpWzSxveiW",
        "colab": {
          "base_uri": "https://localhost:8080/",
          "height": 265
        },
        "outputId": "b89b191c-9762-4e1d-f6c0-2f3f55827b85"
      },
      "source": [
        "def ddx(f, x0, alpha):\n",
        "    h = alpha*np.finfo(float).eps\n",
        "    return (f(x0 + h) - f(x0))/h\n",
        "\n",
        "x = np.linspace(0, 2*np.pi, 100)\n",
        "fx = lambda x: np.sin(x)\n",
        "d_fx = ddx(fx, x, 128)\n",
        "plt.plot(x, fx(x), label=\"original\")\n",
        "plt.plot(x, d_fx, label=\"derivada\")\n",
        "plt.show()"
      ],
      "execution_count": null,
      "outputs": [
        {
          "output_type": "display_data",
          "data": {
            "image/png": "[encoded data removed]",
            "text/plain": [
              "<Figure size 432x288 with 1 Axes>"
            ]
          },
          "metadata": {
            "tags": [],
            "needs_background": "light"
          }
        }
      ]
    },
    {
      "cell_type": "code",
      "metadata": {
        "id": "6Vaq1riY_m7p",
        "colab": {
          "base_uri": "https://localhost:8080/",
          "height": 301
        },
        "outputId": "8154b6c4-b27f-47a0-bcbd-f1d775f0e47e"
      },
      "source": [
        "def infinitesimal(fx, x0):\n",
        "    ans = 1\n",
        "    while fx(x0 + ans) != fx(x0):\n",
        "        ans /= 2\n",
        "    return ans\n",
        "\n",
        "def ddx(f, x):\n",
        "    d = np.zeros(x.shape)\n",
        "    for i in range(d.shape[0]):\n",
        "        h = 256*infinitesimal(f, x[i])\n",
        "        d[i] = (f(x[i] + h) - f(x[i]))/h\n",
        "    return d\n",
        "\n",
        "x = np.linspace(0, 2*np.pi, 100)\n",
        "fx = lambda x: np.sin(x)\n",
        "d_fx = ddx(fx, x)\n",
        "plt.plot(x, fx(x), label=\"original\")\n",
        "plt.plot(x, d_fx, label=\"derivada\")\n",
        "plt.show()"
      ],
      "execution_count": null,
      "outputs": [
        {
          "output_type": "stream",
          "text": [
            "/usr/local/lib/python3.7/dist-packages/ipykernel_launcher.py:11: RuntimeWarning: invalid value encountered in double_scalars\n",
            "  # This is added back by InteractiveShellApp.init_path()\n"
          ],
          "name": "stderr"
        },
        {
          "output_type": "display_data",
          "data": {
            "image/png": "[encoded data removed]",
            "text/plain": [
              "<Figure size 432x288 with 1 Axes>"
            ]
          },
          "metadata": {
            "tags": [],
            "needs_background": "light"
          }
        }
      ]
    },
    {
      "cell_type": "code",
      "metadata": {
        "colab": {
          "base_uri": "https://localhost:8080/",
          "height": 244
        },
        "id": "fkPTYmU0Zu5_",
        "outputId": "3c321b67-f97e-49ed-be15-9e87b8261bf1"
      },
      "source": [
        "def ddx(f, x0):\n",
        "    h = 1e-9 # 1e-12\n",
        "    return (f(x0 + h) - f(x0))/h\n",
        "\n",
        "x = np.linspace(0, 2*np.pi, 100)\n",
        "fx = lambda x: np.sin(x)\n",
        "d_fx = ddx(fx, x, 16)\n",
        "plt.plot(x, fx(x), label=\"original\")\n",
        "plt.plot(x, d_fx, label=\"derivada\")\n",
        "plt.grid('on')\n",
        "plt.show()"
      ],
      "execution_count": null,
      "outputs": [
        {
          "output_type": "error",
          "ename": "TypeError",
          "evalue": "ignored",
          "traceback": [
            "\u001b[0;31m---------------------------------------------------------------------------\u001b[0m",
            "\u001b[0;31mTypeError\u001b[0m                                 Traceback (most recent call last)",
            "\u001b[0;32m<ipython-input-2-7664c646c517>\u001b[0m in \u001b[0;36m<module>\u001b[0;34m()\u001b[0m\n\u001b[1;32m      3\u001b[0m     \u001b[0;32mreturn\u001b[0m \u001b[0;34m(\u001b[0m\u001b[0mf\u001b[0m\u001b[0;34m(\u001b[0m\u001b[0mx0\u001b[0m \u001b[0;34m+\u001b[0m \u001b[0mh\u001b[0m\u001b[0;34m)\u001b[0m \u001b[0;34m-\u001b[0m \u001b[0mf\u001b[0m\u001b[0;34m(\u001b[0m\u001b[0mx0\u001b[0m\u001b[0;34m)\u001b[0m\u001b[0;34m)\u001b[0m\u001b[0;34m/\u001b[0m\u001b[0mh\u001b[0m\u001b[0;34m\u001b[0m\u001b[0;34m\u001b[0m\u001b[0m\n\u001b[1;32m      4\u001b[0m \u001b[0;34m\u001b[0m\u001b[0m\n\u001b[0;32m----> 5\u001b[0;31m \u001b[0mddx\u001b[0m\u001b[0;34m(\u001b[0m\u001b[0;34m)\u001b[0m\u001b[0;34m\u001b[0m\u001b[0;34m\u001b[0m\u001b[0m\n\u001b[0m\u001b[1;32m      6\u001b[0m \u001b[0;34m\u001b[0m\u001b[0m\n\u001b[1;32m      7\u001b[0m \u001b[0;31m# x = np.linspace(0, 2*np.pi, 100)\u001b[0m\u001b[0;34m\u001b[0m\u001b[0;34m\u001b[0m\u001b[0;34m\u001b[0m\u001b[0m\n",
            "\u001b[0;31mTypeError\u001b[0m: ddx() missing 2 required positional arguments: 'f' and 'x0'"
          ]
        }
      ]
    },
    {
      "cell_type": "code",
      "metadata": {
        "colab": {
          "base_uri": "https://localhost:8080/",
          "height": 265
        },
        "id": "QK-WASGkaFpH",
        "outputId": "fdc7cc52-d4f1-484d-fe9d-9182af32384c"
      },
      "source": [
        "def d_dx(y, x):\n",
        "    # return (y[1:] - y[0:-1])/(x[1:]-x[0:-1])\n",
        "    d = np.zeros(x.shape)\n",
        "    d[:-1] = (y[1:] - y[0:-1])/(x[1:]-x[0:-1])\n",
        "    d[-1] = d[-2]\n",
        "    return d\n",
        "\n",
        "x = np.linspace(0, 2*np.pi, 1000)\n",
        "y = x*np.exp(-x)*np.sin(x) # não sabe sobre a função original\n",
        "d_fx = d_dx(y, x)\n",
        "dd_fx = d_dx(d_fx, x)\n",
        "# ddd_fx = d_dx(dd_fx, x)\n",
        "ref = np.exp(-x)*(-x*np.sin(x) + np.sin(x) + x*np.cos(x))\n",
        "ref2 = -2*np.exp(-x)*(np.sin(x) + (x - 1)*np.cos(x))\n",
        "plt.plot(x, y, label=\"original\")\n",
        "plt.plot(x, d_fx, label=\"derivada\")\n",
        "plt.plot(x, dd_fx, label=\"derivada 2a\")\n",
        "# plt.plot(x, ddd_fx, label=\"derivada 3a\")\n",
        "plt.plot(x, ref, '--', label=\"ref\")\n",
        "plt.plot(x, ref2, '--', label=\"ref2\")\n",
        "plt.legend()\n",
        "plt.grid('on')\n",
        "plt.show()\n"
      ],
      "execution_count": null,
      "outputs": [
        {
          "output_type": "display_data",
          "data": {
            "image/png": "[encoded data removed]",
            "text/plain": [
              "<Figure size 432x288 with 1 Axes>"
            ]
          },
          "metadata": {
            "tags": [],
            "needs_background": "light"
          }
        }
      ]
    },
    {
      "cell_type": "code",
      "metadata": {
        "colab": {
          "base_uri": "https://localhost:8080/"
        },
        "id": "I7p1pmSBPr7G",
        "outputId": "9253a96c-42f7-4704-f439-cfa3978b84b8"
      },
      "source": [
        "## EXERCÍCIO ##\n",
        "import os\n",
        "if not os.path.exists('sinal_ex.npy'):\n",
        "    !wget https://github.com/iperetta/FEELT31723/raw/main/sinal_ex.npy\n",
        "import numpy as np\n",
        "with open('sinal_ex.npy', 'rb') as f:\n",
        "    y = np.load(f)\n",
        "x = np.linspace(0., 1.5, y.shape[0])\n",
        "\n",
        "def d_dx(y, x):\n",
        "    # return (y[1:] - y[0:-1])/(x[1:]-x[0:-1])\n",
        "    d = np.zeros(x.shape)\n",
        "    d[:-1] = (y[1:] - y[0:-1])/(x[1:]-x[0:-1])\n",
        "    d[-1] = d[-2]\n",
        "    return d\n",
        "\n",
        "derivadas = d_dx(y,x)\n",
        "soma = 0\n",
        "for d in derivadas:\n",
        "  soma += d\n",
        "media = soma/(len(derivadas))\n",
        "print(\"média: \", media)"
      ],
      "execution_count": null,
      "outputs": [
        {
          "output_type": "stream",
          "text": [
            "média:  6.0183326861336575\n"
          ],
          "name": "stdout"
        }
      ]
    },
    {
      "cell_type": "markdown",
      "metadata": {
        "id": "wGMNPx_BNQc4"
      },
      "source": [
        "# **Integral de Funções**"
      ]
    },
    {
      "cell_type": "code",
      "metadata": {
        "colab": {
          "base_uri": "https://localhost:8080/"
        },
        "id": "_kgdMtsFbzHD",
        "outputId": "622935ed-9017-4fed-b815-7f00e4271a4b"
      },
      "source": [
        "def integrate_lh(y, x):\n",
        "    ans = 0\n",
        "    for i in range(x.shape[0]-1):\n",
        "        ans += y[i]*(x[i+1]-x[i])\n",
        "    return ans\n",
        "\n",
        "def integrate_rh(y, x):\n",
        "    ans = 0\n",
        "    for i in range(1, x.shape[0]):\n",
        "        ans += y[i]*(x[i]-x[i-1])\n",
        "    return ans\n",
        "\n",
        "def integrate(y, x):\n",
        "    return np.sum(y)*(x[1]-x[0])\n",
        "\n",
        "def integrate_trap(y, x):\n",
        "    ans = 0\n",
        "    for i in range(x.shape[0]-1):\n",
        "        ans += 0.5*(y[i+1]+y[i])*(x[i+1]-x[i])\n",
        "    return ans\n",
        "\n",
        "x = np.linspace(1e-9, np.pi, 100)\n",
        "y = np.sin(x)/x\n",
        "# 1.85194\n",
        "a = integrate_lh(y, x)\n",
        "b = integrate_rh(y, x)\n",
        "print(\"Mão esquerda:\", a)\n",
        "print(\"Mão direita: \", b)\n",
        "# print(\"Média: \", (a+b)/2)\n",
        "print(\"Outra: \", integrate(y, x))\n",
        "print(\"Trapézio: \", integrate_trap(y, x))"
      ],
      "execution_count": null,
      "outputs": [
        {
          "output_type": "stream",
          "text": [
            "Mão esquerda: 1.8677769688676917\n",
            "Mão direita:  1.8360437097506241\n",
            "Outra:  1.867776968867692\n",
            "Trapézio:  1.851910339309159\n"
          ],
          "name": "stdout"
        }
      ]
    },
    {
      "cell_type": "code",
      "metadata": {
        "id": "CIc-86IHjXt-",
        "colab": {
          "base_uri": "https://localhost:8080/"
        },
        "outputId": "5b0c4731-ff17-4d91-ef7a-a78716e4cf94"
      },
      "source": [
        "## EXERCÍCIO ##\n",
        "import os\n",
        "if not os.path.exists('sinal_ex.npy'):\n",
        "    !wget https://github.com/iperetta/FEELT31723/raw/main/sinal_ex.npy\n",
        "import numpy as np\n",
        "with open('sinal_ex.npy', 'rb') as f:\n",
        "    y = np.load(f)\n",
        "x = np.linspace(0., 1.5, y.shape[0])\n",
        "\n",
        "\n",
        "def integrate_trap(y, x):\n",
        "    ans = 0\n",
        "    for i in range(x.shape[0]-1):\n",
        "        ans += 0.5*(y[i+1]+y[i])*(x[i+1]-x[i])\n",
        "    return ans\n",
        "print(\"Trapézio: \", integrate_trap(y, x))"
      ],
      "execution_count": null,
      "outputs": [
        {
          "output_type": "stream",
          "text": [
            "Trapézio:  -4.126024833680546\n"
          ],
          "name": "stdout"
        }
      ]
    },
    {
      "cell_type": "code",
      "metadata": {
        "colab": {
          "base_uri": "https://localhost:8080/"
        },
        "id": "xkdG4vNdMoBl",
        "outputId": "b41bd4e4-caf6-4b27-ddfa-bd7e19fe0329"
      },
      "source": [
        "## EXERCÍCIO ##\n",
        "import numpy as np\n",
        "import matplotlib.pyplot as plt\n",
        "from ipywidgets import interact\n",
        "\n",
        "N = 10**6\n",
        "x = np.linspace(0., 1.5, N)\n",
        "fx = lambda x: 0.5 * (np.e)**(2*x) * ((3*np.cos(3*x)) - (2*np.sin(3*x)))\n",
        "\n",
        "def integrate_trap(y, x):\n",
        "    ans = 0\n",
        "    for i in range(x.shape[0]-1):\n",
        "        ans += 0.5*(y[i+1]+y[i])*(x[i+1]-x[i])\n",
        "    return ans\n",
        "\n",
        "integrate_trap(fx(x), x)"
      ],
      "execution_count": null,
      "outputs": [
        {
          "output_type": "execute_result",
          "data": {
            "text/plain": [
              "-6.191478773518085"
            ]
          },
          "metadata": {
            "tags": []
          },
          "execution_count": 25
        }
      ]
    }
  ]
}