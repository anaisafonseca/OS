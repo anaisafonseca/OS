{
  "nbformat": 4,
  "nbformat_minor": 0,
  "metadata": {
    "colab": {
      "name": "gambler's ruin",
      "provenance": [],
      "collapsed_sections": []
    },
    "kernelspec": {
      "name": "python3",
      "display_name": "Python 3"
    },
    "language_info": {
      "name": "python"
    },
    "widgets": {
      "application/vnd.jupyter.widget-state+json": {
        "c46cc8ded726440082e62d1e45e07bac": {
          "model_module": "@jupyter-widgets/controls",
          "model_name": "VBoxModel",
          "model_module_version": "1.5.0",
          "state": {
            "_view_name": "VBoxView",
            "_dom_classes": [
              "widget-interact"
            ],
            "_model_name": "VBoxModel",
            "_view_module": "@jupyter-widgets/controls",
            "_model_module_version": "1.5.0",
            "_view_count": null,
            "_view_module_version": "1.5.0",
            "box_style": "",
            "layout": "IPY_MODEL_d68c00c63e3341e0bcd040838e9e5224",
            "_model_module": "@jupyter-widgets/controls",
            "children": [
              "IPY_MODEL_fdeecf43b8bc4bc3b637ba1940cee3c9",
              "IPY_MODEL_c1c1453544db4e3f86be620feedcba08",
              "IPY_MODEL_7b23475463a349549cb325ab98259e6a",
              "IPY_MODEL_9ce9645b19aa49d78933c5784fd3a65b",
              "IPY_MODEL_d05fb62bc11c40aea314166b204ad321",
              "IPY_MODEL_d4952f8493ed40289934a16385519d5c"
            ]
          }
        },
        "d68c00c63e3341e0bcd040838e9e5224": {
          "model_module": "@jupyter-widgets/base",
          "model_name": "LayoutModel",
          "model_module_version": "1.2.0",
          "state": {
            "_view_name": "LayoutView",
            "grid_template_rows": null,
            "right": null,
            "justify_content": null,
            "_view_module": "@jupyter-widgets/base",
            "overflow": null,
            "_model_module_version": "1.2.0",
            "_view_count": null,
            "flex_flow": null,
            "width": null,
            "min_width": null,
            "border": null,
            "align_items": null,
            "bottom": null,
            "_model_module": "@jupyter-widgets/base",
            "top": null,
            "grid_column": null,
            "overflow_y": null,
            "overflow_x": null,
            "grid_auto_flow": null,
            "grid_area": null,
            "grid_template_columns": null,
            "flex": null,
            "_model_name": "LayoutModel",
            "justify_items": null,
            "grid_row": null,
            "max_height": null,
            "align_content": null,
            "visibility": null,
            "align_self": null,
            "height": null,
            "min_height": null,
            "padding": null,
            "grid_auto_rows": null,
            "grid_gap": null,
            "max_width": null,
            "order": null,
            "_view_module_version": "1.2.0",
            "grid_template_areas": null,
            "object_position": null,
            "object_fit": null,
            "grid_auto_columns": null,
            "margin": null,
            "display": null,
            "left": null
          }
        },
        "fdeecf43b8bc4bc3b637ba1940cee3c9": {
          "model_module": "@jupyter-widgets/controls",
          "model_name": "CheckboxModel",
          "model_module_version": "1.5.0",
          "state": {
            "_view_name": "CheckboxView",
            "style": "IPY_MODEL_1bebbd09e2934b6290163b211eacc607",
            "_dom_classes": [],
            "description": "reload",
            "_model_name": "CheckboxModel",
            "_view_module": "@jupyter-widgets/controls",
            "_model_module_version": "1.5.0",
            "value": true,
            "_view_count": null,
            "disabled": false,
            "_view_module_version": "1.5.0",
            "indent": true,
            "description_tooltip": null,
            "_model_module": "@jupyter-widgets/controls",
            "layout": "IPY_MODEL_5f912e558a7843e7ad954ac8dcf6bc8f"
          }
        },
        "c1c1453544db4e3f86be620feedcba08": {
          "model_module": "@jupyter-widgets/controls",
          "model_name": "IntTextModel",
          "model_module_version": "1.5.0",
          "state": {
            "_view_name": "IntTextView",
            "style": "IPY_MODEL_ac27dfdee12b4b76b6a419fa3399a922",
            "_dom_classes": [],
            "description": "dinheiroInicial",
            "_model_name": "IntTextModel",
            "_view_module": "@jupyter-widgets/controls",
            "_model_module_version": "1.5.0",
            "value": 100,
            "_view_count": null,
            "disabled": false,
            "_view_module_version": "1.5.0",
            "continuous_update": false,
            "step": 1,
            "description_tooltip": null,
            "_model_module": "@jupyter-widgets/controls",
            "layout": "IPY_MODEL_32223258b3cc44bcb2f44672bdab5f61"
          }
        },
        "7b23475463a349549cb325ab98259e6a": {
          "model_module": "@jupyter-widgets/controls",
          "model_name": "FloatTextModel",
          "model_module_version": "1.5.0",
          "state": {
            "_view_name": "FloatTextView",
            "style": "IPY_MODEL_09c4ca55006348258ab9a342d4a84e23",
            "_dom_classes": [],
            "description": "fatorMultiplicativo",
            "_model_name": "FloatTextModel",
            "_view_module": "@jupyter-widgets/controls",
            "_model_module_version": "1.5.0",
            "value": 1.05,
            "_view_count": null,
            "disabled": false,
            "_view_module_version": "1.5.0",
            "continuous_update": false,
            "step": null,
            "description_tooltip": null,
            "_model_module": "@jupyter-widgets/controls",
            "layout": "IPY_MODEL_e19eafb544864851a014812d0db19090"
          }
        },
        "9ce9645b19aa49d78933c5784fd3a65b": {
          "model_module": "@jupyter-widgets/controls",
          "model_name": "IntTextModel",
          "model_module_version": "1.5.0",
          "state": {
            "_view_name": "IntTextView",
            "style": "IPY_MODEL_01b4d2129b874907a64d8658ba73cda5",
            "_dom_classes": [],
            "description": "nIterations",
            "_model_name": "IntTextModel",
            "_view_module": "@jupyter-widgets/controls",
            "_model_module_version": "1.5.0",
            "value": 1000,
            "_view_count": null,
            "disabled": false,
            "_view_module_version": "1.5.0",
            "continuous_update": false,
            "step": 1,
            "description_tooltip": null,
            "_model_module": "@jupyter-widgets/controls",
            "layout": "IPY_MODEL_2bf4e5b3c9534d8c80389f0562099ce8"
          }
        },
        "d05fb62bc11c40aea314166b204ad321": {
          "model_module": "@jupyter-widgets/controls",
          "model_name": "FloatSliderModel",
          "model_module_version": "1.5.0",
          "state": {
            "_view_name": "FloatSliderView",
            "style": "IPY_MODEL_9b79d20f9193432e91ef9e4859b9ffba",
            "_dom_classes": [],
            "description": "P",
            "step": 0.05,
            "_model_name": "FloatSliderModel",
            "orientation": "horizontal",
            "max": 1,
            "_view_module": "@jupyter-widgets/controls",
            "_model_module_version": "1.5.0",
            "value": 0.5,
            "_view_count": null,
            "disabled": false,
            "_view_module_version": "1.5.0",
            "min": 0,
            "continuous_update": true,
            "readout_format": ".2f",
            "description_tooltip": null,
            "readout": true,
            "_model_module": "@jupyter-widgets/controls",
            "layout": "IPY_MODEL_fc8227f1662a4c80b94b13ceb6cafaf4"
          }
        },
        "d4952f8493ed40289934a16385519d5c": {
          "model_module": "@jupyter-widgets/output",
          "model_name": "OutputModel",
          "model_module_version": "1.0.0",
          "state": {
            "_view_name": "OutputView",
            "msg_id": "",
            "_dom_classes": [],
            "_model_name": "OutputModel",
            "outputs": [
              {
                "output_type": "display_data",
                "data": {
                  "image/png": "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\n",
                  "text/plain": "<Figure size 432x288 with 1 Axes>"
                },
                "metadata": {
                  "needs_background": "light"
                }
              },
              {
                "output_type": "stream",
                "name": "stdout",
                "text": [
                  "\n",
                  "A probabilidade da jogadora conseguir um lucro de $5.00 é de: 0.20%\n",
                  "Número de vitórias:  2\n"
                ]
              }
            ],
            "_view_module": "@jupyter-widgets/output",
            "_model_module_version": "1.0.0",
            "_view_count": null,
            "_view_module_version": "1.0.0",
            "layout": "IPY_MODEL_6130d11d950a4fe6aa7d60a6e81ac54d",
            "_model_module": "@jupyter-widgets/output"
          }
        },
        "1bebbd09e2934b6290163b211eacc607": {
          "model_module": "@jupyter-widgets/controls",
          "model_name": "DescriptionStyleModel",
          "model_module_version": "1.5.0",
          "state": {
            "_view_name": "StyleView",
            "_model_name": "DescriptionStyleModel",
            "description_width": "",
            "_view_module": "@jupyter-widgets/base",
            "_model_module_version": "1.5.0",
            "_view_count": null,
            "_view_module_version": "1.2.0",
            "_model_module": "@jupyter-widgets/controls"
          }
        },
        "5f912e558a7843e7ad954ac8dcf6bc8f": {
          "model_module": "@jupyter-widgets/base",
          "model_name": "LayoutModel",
          "model_module_version": "1.2.0",
          "state": {
            "_view_name": "LayoutView",
            "grid_template_rows": null,
            "right": null,
            "justify_content": null,
            "_view_module": "@jupyter-widgets/base",
            "overflow": null,
            "_model_module_version": "1.2.0",
            "_view_count": null,
            "flex_flow": null,
            "width": null,
            "min_width": null,
            "border": null,
            "align_items": null,
            "bottom": null,
            "_model_module": "@jupyter-widgets/base",
            "top": null,
            "grid_column": null,
            "overflow_y": null,
            "overflow_x": null,
            "grid_auto_flow": null,
            "grid_area": null,
            "grid_template_columns": null,
            "flex": null,
            "_model_name": "LayoutModel",
            "justify_items": null,
            "grid_row": null,
            "max_height": null,
            "align_content": null,
            "visibility": null,
            "align_self": null,
            "height": null,
            "min_height": null,
            "padding": null,
            "grid_auto_rows": null,
            "grid_gap": null,
            "max_width": null,
            "order": null,
            "_view_module_version": "1.2.0",
            "grid_template_areas": null,
            "object_position": null,
            "object_fit": null,
            "grid_auto_columns": null,
            "margin": null,
            "display": null,
            "left": null
          }
        },
        "ac27dfdee12b4b76b6a419fa3399a922": {
          "model_module": "@jupyter-widgets/controls",
          "model_name": "DescriptionStyleModel",
          "model_module_version": "1.5.0",
          "state": {
            "_view_name": "StyleView",
            "_model_name": "DescriptionStyleModel",
            "description_width": "",
            "_view_module": "@jupyter-widgets/base",
            "_model_module_version": "1.5.0",
            "_view_count": null,
            "_view_module_version": "1.2.0",
            "_model_module": "@jupyter-widgets/controls"
          }
        },
        "32223258b3cc44bcb2f44672bdab5f61": {
          "model_module": "@jupyter-widgets/base",
          "model_name": "LayoutModel",
          "model_module_version": "1.2.0",
          "state": {
            "_view_name": "LayoutView",
            "grid_template_rows": null,
            "right": null,
            "justify_content": null,
            "_view_module": "@jupyter-widgets/base",
            "overflow": null,
            "_model_module_version": "1.2.0",
            "_view_count": null,
            "flex_flow": null,
            "width": null,
            "min_width": null,
            "border": null,
            "align_items": null,
            "bottom": null,
            "_model_module": "@jupyter-widgets/base",
            "top": null,
            "grid_column": null,
            "overflow_y": null,
            "overflow_x": null,
            "grid_auto_flow": null,
            "grid_area": null,
            "grid_template_columns": null,
            "flex": null,
            "_model_name": "LayoutModel",
            "justify_items": null,
            "grid_row": null,
            "max_height": null,
            "align_content": null,
            "visibility": null,
            "align_self": null,
            "height": null,
            "min_height": null,
            "padding": null,
            "grid_auto_rows": null,
            "grid_gap": null,
            "max_width": null,
            "order": null,
            "_view_module_version": "1.2.0",
            "grid_template_areas": null,
            "object_position": null,
            "object_fit": null,
            "grid_auto_columns": null,
            "margin": null,
            "display": null,
            "left": null
          }
        },
        "09c4ca55006348258ab9a342d4a84e23": {
          "model_module": "@jupyter-widgets/controls",
          "model_name": "DescriptionStyleModel",
          "model_module_version": "1.5.0",
          "state": {
            "_view_name": "StyleView",
            "_model_name": "DescriptionStyleModel",
            "description_width": "",
            "_view_module": "@jupyter-widgets/base",
            "_model_module_version": "1.5.0",
            "_view_count": null,
            "_view_module_version": "1.2.0",
            "_model_module": "@jupyter-widgets/controls"
          }
        },
        "e19eafb544864851a014812d0db19090": {
          "model_module": "@jupyter-widgets/base",
          "model_name": "LayoutModel",
          "model_module_version": "1.2.0",
          "state": {
            "_view_name": "LayoutView",
            "grid_template_rows": null,
            "right": null,
            "justify_content": null,
            "_view_module": "@jupyter-widgets/base",
            "overflow": null,
            "_model_module_version": "1.2.0",
            "_view_count": null,
            "flex_flow": null,
            "width": null,
            "min_width": null,
            "border": null,
            "align_items": null,
            "bottom": null,
            "_model_module": "@jupyter-widgets/base",
            "top": null,
            "grid_column": null,
            "overflow_y": null,
            "overflow_x": null,
            "grid_auto_flow": null,
            "grid_area": null,
            "grid_template_columns": null,
            "flex": null,
            "_model_name": "LayoutModel",
            "justify_items": null,
            "grid_row": null,
            "max_height": null,
            "align_content": null,
            "visibility": null,
            "align_self": null,
            "height": null,
            "min_height": null,
            "padding": null,
            "grid_auto_rows": null,
            "grid_gap": null,
            "max_width": null,
            "order": null,
            "_view_module_version": "1.2.0",
            "grid_template_areas": null,
            "object_position": null,
            "object_fit": null,
            "grid_auto_columns": null,
            "margin": null,
            "display": null,
            "left": null
          }
        },
        "01b4d2129b874907a64d8658ba73cda5": {
          "model_module": "@jupyter-widgets/controls",
          "model_name": "DescriptionStyleModel",
          "model_module_version": "1.5.0",
          "state": {
            "_view_name": "StyleView",
            "_model_name": "DescriptionStyleModel",
            "description_width": "",
            "_view_module": "@jupyter-widgets/base",
            "_model_module_version": "1.5.0",
            "_view_count": null,
            "_view_module_version": "1.2.0",
            "_model_module": "@jupyter-widgets/controls"
          }
        },
        "2bf4e5b3c9534d8c80389f0562099ce8": {
          "model_module": "@jupyter-widgets/base",
          "model_name": "LayoutModel",
          "model_module_version": "1.2.0",
          "state": {
            "_view_name": "LayoutView",
            "grid_template_rows": null,
            "right": null,
            "justify_content": null,
            "_view_module": "@jupyter-widgets/base",
            "overflow": null,
            "_model_module_version": "1.2.0",
            "_view_count": null,
            "flex_flow": null,
            "width": null,
            "min_width": null,
            "border": null,
            "align_items": null,
            "bottom": null,
            "_model_module": "@jupyter-widgets/base",
            "top": null,
            "grid_column": null,
            "overflow_y": null,
            "overflow_x": null,
            "grid_auto_flow": null,
            "grid_area": null,
            "grid_template_columns": null,
            "flex": null,
            "_model_name": "LayoutModel",
            "justify_items": null,
            "grid_row": null,
            "max_height": null,
            "align_content": null,
            "visibility": null,
            "align_self": null,
            "height": null,
            "min_height": null,
            "padding": null,
            "grid_auto_rows": null,
            "grid_gap": null,
            "max_width": null,
            "order": null,
            "_view_module_version": "1.2.0",
            "grid_template_areas": null,
            "object_position": null,
            "object_fit": null,
            "grid_auto_columns": null,
            "margin": null,
            "display": null,
            "left": null
          }
        },
        "9b79d20f9193432e91ef9e4859b9ffba": {
          "model_module": "@jupyter-widgets/controls",
          "model_name": "SliderStyleModel",
          "model_module_version": "1.5.0",
          "state": {
            "_view_name": "StyleView",
            "handle_color": null,
            "_model_name": "SliderStyleModel",
            "description_width": "",
            "_view_module": "@jupyter-widgets/base",
            "_model_module_version": "1.5.0",
            "_view_count": null,
            "_view_module_version": "1.2.0",
            "_model_module": "@jupyter-widgets/controls"
          }
        },
        "fc8227f1662a4c80b94b13ceb6cafaf4": {
          "model_module": "@jupyter-widgets/base",
          "model_name": "LayoutModel",
          "model_module_version": "1.2.0",
          "state": {
            "_view_name": "LayoutView",
            "grid_template_rows": null,
            "right": null,
            "justify_content": null,
            "_view_module": "@jupyter-widgets/base",
            "overflow": null,
            "_model_module_version": "1.2.0",
            "_view_count": null,
            "flex_flow": null,
            "width": null,
            "min_width": null,
            "border": null,
            "align_items": null,
            "bottom": null,
            "_model_module": "@jupyter-widgets/base",
            "top": null,
            "grid_column": null,
            "overflow_y": null,
            "overflow_x": null,
            "grid_auto_flow": null,
            "grid_area": null,
            "grid_template_columns": null,
            "flex": null,
            "_model_name": "LayoutModel",
            "justify_items": null,
            "grid_row": null,
            "max_height": null,
            "align_content": null,
            "visibility": null,
            "align_self": null,
            "height": null,
            "min_height": null,
            "padding": null,
            "grid_auto_rows": null,
            "grid_gap": null,
            "max_width": null,
            "order": null,
            "_view_module_version": "1.2.0",
            "grid_template_areas": null,
            "object_position": null,
            "object_fit": null,
            "grid_auto_columns": null,
            "margin": null,
            "display": null,
            "left": null
          }
        },
        "6130d11d950a4fe6aa7d60a6e81ac54d": {
          "model_module": "@jupyter-widgets/base",
          "model_name": "LayoutModel",
          "model_module_version": "1.2.0",
          "state": {
            "_view_name": "LayoutView",
            "grid_template_rows": null,
            "right": null,
            "justify_content": null,
            "_view_module": "@jupyter-widgets/base",
            "overflow": null,
            "_model_module_version": "1.2.0",
            "_view_count": null,
            "flex_flow": null,
            "width": null,
            "min_width": null,
            "border": null,
            "align_items": null,
            "bottom": null,
            "_model_module": "@jupyter-widgets/base",
            "top": null,
            "grid_column": null,
            "overflow_y": null,
            "overflow_x": null,
            "grid_auto_flow": null,
            "grid_area": null,
            "grid_template_columns": null,
            "flex": null,
            "_model_name": "LayoutModel",
            "justify_items": null,
            "grid_row": null,
            "max_height": null,
            "align_content": null,
            "visibility": null,
            "align_self": null,
            "height": null,
            "min_height": null,
            "padding": null,
            "grid_auto_rows": null,
            "grid_gap": null,
            "max_width": null,
            "order": null,
            "_view_module_version": "1.2.0",
            "grid_template_areas": null,
            "object_position": null,
            "object_fit": null,
            "grid_auto_columns": null,
            "margin": null,
            "display": null,
            "left": null
          }
        }
      }
    }
  },
  "cells": [
    {
      "cell_type": "markdown",
      "metadata": {
        "id": "qxB_S-yNy-tG"
      },
      "source": [
        "> Anaísa Forti da Fonseca - 11811ECP012"
      ]
    },
    {
      "cell_type": "markdown",
      "metadata": {
        "id": "v8JKsRVQyv_f"
      },
      "source": [
        "# **Gambler's Ruin**"
      ]
    },
    {
      "cell_type": "markdown",
      "metadata": {
        "id": "QnqZpPZYy8ZY"
      },
      "source": [
        "Considere como parâmetros a **quantidade inicial de dinheiro**, a **probabilidade $P$ de apostar no vermelho** da roleta ($1-P$ é a probabilidade de apostar no preto) e o **fator multiplicativo que o jogador deseja para seus ganhos**.\n",
        "\n",
        "Note que, ao compararmos o problema ao descrito no notebook da aula, temos duas diferenças básicas: \n",
        "\n",
        "**1-** os parâmetros length e rescueAt são unificados, referentes ao que o jogador deseja ganhar; \n",
        "\n",
        "**2-** são duas probabilidades a serem consideradas, a probabilidade de se apostar ou não no vermelho e a probabilidade de sair vermelho ou preto -- além do fato de que a banca ganha com resultados 0 ou 00, independente do que o jogador apostou. \n",
        "\n",
        "**Mostre a probabilidade do jogador conseguir o seu intento.**\n"
      ]
    },
    {
      "cell_type": "markdown",
      "metadata": {
        "id": "ySTbdupD0l4A"
      },
      "source": [
        "## Considerações"
      ]
    },
    {
      "cell_type": "markdown",
      "metadata": {
        "id": "RbpJsX-G1UMw"
      },
      "source": [
        "Sendo $R_n$ a probabilidade de ela ir pra casa uma ganhadora, temos que:\n",
        "\n",
        "**1-** Se iniciar sem dinheiro, estará quebrada imediatamente: $R_0=0$\n",
        "\n",
        "**2-** Se iniciar com $w$ dólares (total que queremos atingir), será ganhadora instantânea: $R_w=1$\n",
        "\n",
        "> $R_n=\\frac{(\\frac{1-p}{p})^n -1}{(\\frac{1-p}{p})^w -1}$\n",
        "\n",
        "Se a quantidade inicial de dinheiro ($n$) for razoavelmente grande, as frações exponenciais acima serão números grandes e, então, os -1's não farão grande diferença.\n",
        "\n",
        "Então, a probabilidade de ela atingir $w=n+m$ dólares é de:\n",
        "\n",
        "> $R_n = (\\frac{1-p}{p})^{n-w} = (\\frac{1-p}{p})^m$\n",
        "\n",
        "Na qual:\n",
        "\n",
        "**1-** Probabilidade de ganhar a aposta: $p=\\frac{18}{38}$;\n",
        "\n",
        "**2-** Probabilidade de perder a aposta: $1-p=\\frac{20}{38}$;\n",
        "\n",
        "**3-** A quantidade, em dólares, que a jogadora deseja ganhar: $m=f.n$ ($f$ é o fator multiplicativo e $n$ é o dinheiro inicial)."
      ]
    },
    {
      "cell_type": "markdown",
      "metadata": {
        "id": "UZ8B3kBn0eLu"
      },
      "source": [
        "## Simulação"
      ]
    },
    {
      "cell_type": "code",
      "metadata": {
        "colab": {
          "base_uri": "https://localhost:8080/",
          "height": 495,
          "referenced_widgets": [
            "c46cc8ded726440082e62d1e45e07bac",
            "d68c00c63e3341e0bcd040838e9e5224",
            "fdeecf43b8bc4bc3b637ba1940cee3c9",
            "c1c1453544db4e3f86be620feedcba08",
            "7b23475463a349549cb325ab98259e6a",
            "9ce9645b19aa49d78933c5784fd3a65b",
            "d05fb62bc11c40aea314166b204ad321",
            "d4952f8493ed40289934a16385519d5c",
            "1bebbd09e2934b6290163b211eacc607",
            "5f912e558a7843e7ad954ac8dcf6bc8f",
            "ac27dfdee12b4b76b6a419fa3399a922",
            "32223258b3cc44bcb2f44672bdab5f61",
            "09c4ca55006348258ab9a342d4a84e23",
            "e19eafb544864851a014812d0db19090",
            "01b4d2129b874907a64d8658ba73cda5",
            "2bf4e5b3c9534d8c80389f0562099ce8",
            "9b79d20f9193432e91ef9e4859b9ffba",
            "fc8227f1662a4c80b94b13ceb6cafaf4",
            "6130d11d950a4fe6aa7d60a6e81ac54d"
          ]
        },
        "id": "w-VtpAfsfXIT",
        "outputId": "34ba62a1-f5f7-4cac-863d-ee69b4328c76"
      },
      "source": [
        "import numpy as np\n",
        "import matplotlib.pyplot as plt\n",
        "from ipywidgets import interact, widgets\n",
        "\n",
        "@interact(P=(0.0,1.0,0.05),     # probabilidade de apostar no vermelho\n",
        "          dinheiroInicial=widgets.IntText(value=100),\n",
        "          fatorMultiplicativo=widgets.FloatText(value=1.05),\n",
        "          nIterations=widgets.IntText(value=1000),\n",
        "          reload=False)\n",
        "\n",
        "def simulate(reload, dinheiroInicial, fatorMultiplicativo, nIterations, P=0.5):\n",
        "  total = fatorMultiplicativo * dinheiroInicial\n",
        "  lucro = total - dinheiroInicial\n",
        "  nVitorias = 0\n",
        "  \n",
        "\n",
        "  def gamble(prob, n):\n",
        "    escolherVermelho = np.random.random() < P     # booleano\n",
        "    sairVermelho = np.random.random() < (18/38)   # booleano\n",
        "\n",
        "    if (n <= 0):\n",
        "      return None\n",
        "\n",
        "    if(n >= total):\n",
        "      return \"victory\"\n",
        "    # return n+1 if (escolherVermelho and sairVermelho) else n-1\n",
        "\n",
        "    if (escolherVermelho and sairVermelho):\n",
        "      return n+1\n",
        "    else:\n",
        "      return n-1\n",
        "  \n",
        "  def run(n):\n",
        "    money = [n]\n",
        "    while True:\n",
        "      n = gamble(P, n)\n",
        "      if n is None:\n",
        "        break\n",
        "      if n is \"victory\":\n",
        "        money.append(n)\n",
        "        return [len(money), True]\n",
        "      money.append(n)\n",
        "    return [len(money), False]\n",
        "\n",
        "  steps = []\n",
        "  vitorias = []\n",
        "  for _ in range(nIterations):\n",
        "    vitorias.append(run(dinheiroInicial)[1])\n",
        "    steps.append(run(dinheiroInicial)[0])\n",
        "  \n",
        "  plt.hist(steps)\n",
        "  plt.xlabel(\"Número de apostas\")\n",
        "  plt.ylabel(\"Contagem dinheiro por simulação\")  \n",
        "  plt.grid('on')\n",
        "  plt.show()\n",
        "  steps = np.array(steps)\n",
        "  nVitorias = np.count_nonzero(vitorias)\n",
        "  p = nVitorias/steps.shape[0]\n",
        "  print(f\"\\nA probabilidade da jogadora conseguir um lucro de ${lucro:.2f} é de: {p*100:.2f}%\")\n",
        "  print(\"Número de vitórias: \", nVitorias)"
      ],
      "execution_count": 96,
      "outputs": [
        {
          "output_type": "display_data",
          "data": {
            "application/vnd.jupyter.widget-view+json": {
              "model_id": "c46cc8ded726440082e62d1e45e07bac",
              "version_minor": 0,
              "version_major": 2
            },
            "text/plain": [
              "interactive(children=(Checkbox(value=False, description='reload'), IntText(value=100, description='dinheiroIni…"
            ]
          },
          "metadata": {}
        }
      ]
    },
    {
      "cell_type": "code",
      "metadata": {
        "id": "Nz5MwtiwiKyX"
      },
      "source": [
        ""
      ],
      "execution_count": null,
      "outputs": []
    }
  ]
}